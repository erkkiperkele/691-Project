{
 "cells": [
  {
   "cell_type": "code",
   "execution_count": 1,
   "metadata": {
    "collapsed": true
   },
   "outputs": [],
   "source": [
    "BIZPATH='../montreal_subset/montreal_business.json'\n",
    "USERPATH='../montreal_subset/montreal_users_who_reviewed.json'\n",
    "REVPATH='../montreal_subset/montreal_reviews.json'\n",
    "CHECKINPATH='../montreal_subset/montreal_checkin.json'\n",
    "Test = \"\"\n"
   ]
  },
  {
   "cell_type": "code",
   "execution_count": 2,
   "metadata": {
    "collapsed": true
   },
   "outputs": [],
   "source": [
    "import json"
   ]
  },
  {
   "cell_type": "code",
   "execution_count": 3,
   "metadata": {
    "collapsed": true
   },
   "outputs": [],
   "source": [
    "bizrecords = [json.loads(line) for line in open(BIZPATH)]\n",
    "userrecords = [json.loads(line) for line in open(USERPATH)]\n",
    "revrecords = [json.loads(line) for line in open(REVPATH)]\n",
    "checkinrecords = [json.loads(line) for line in open(CHECKINPATH)]"
   ]
  },
  {
   "cell_type": "code",
   "execution_count": 4,
   "metadata": {
    "collapsed": false,
    "scrolled": true
   },
   "outputs": [
    {
     "data": {
      "text/plain": [
       "{u'attributes': {u'Accepts Credit Cards': True,\n",
       "  u'Parking': {u'garage': False,\n",
       "   u'lot': False,\n",
       "   u'street': True,\n",
       "   u'valet': False,\n",
       "   u'validated': False},\n",
       "  u'Price Range': 2,\n",
       "  u'Wheelchair Accessible': True},\n",
       " u'business_id': u'5LBVJ2_UslInSx5n7D__xQ',\n",
       " u'categories': [u'Shopping', u'Adult'],\n",
       " u'city': u'Montreal',\n",
       " u'full_address': u'1311, Ste-Catherine Street E\\nVille-Marie\\nMontreal, QC H2L 2H6',\n",
       " u'hours': {u'Friday': {u'close': u'21:00', u'open': u'10:00'},\n",
       "  u'Monday': {u'close': u'21:00', u'open': u'10:00'},\n",
       "  u'Saturday': {u'close': u'20:00', u'open': u'10:00'},\n",
       "  u'Sunday': {u'close': u'20:00', u'open': u'12:00'},\n",
       "  u'Thursday': {u'close': u'21:00', u'open': u'10:00'},\n",
       "  u'Tuesday': {u'close': u'21:00', u'open': u'10:00'},\n",
       "  u'Wednesday': {u'close': u'21:00', u'open': u'10:00'}},\n",
       " u'latitude': 45.519097838114,\n",
       " u'longitude': -73.5548400878906,\n",
       " u'name': u'Priape',\n",
       " u'neighborhoods': [u'Ville-Marie'],\n",
       " u'open': True,\n",
       " u'review_count': 4,\n",
       " u'stars': 4.5,\n",
       " u'state': u'QC',\n",
       " u'type': u'business'}"
      ]
     },
     "execution_count": 4,
     "metadata": {},
     "output_type": "execute_result"
    }
   ],
   "source": [
    "bizrecords[0]"
   ]
  },
  {
   "cell_type": "code",
   "execution_count": 5,
   "metadata": {
    "collapsed": false
   },
   "outputs": [
    {
     "data": {
      "text/plain": [
       "{u'average_stars': 3.52,\n",
       " u'compliments': {u'cool': 125,\n",
       "  u'cute': 8,\n",
       "  u'funny': 37,\n",
       "  u'hot': 75,\n",
       "  u'list': 38,\n",
       "  u'more': 17,\n",
       "  u'note': 116,\n",
       "  u'photos': 29,\n",
       "  u'plain': 277,\n",
       "  u'profile': 5,\n",
       "  u'writer': 44},\n",
       " u'elite': [2006, 2007, 2008, 2009, 2010, 2011, 2012, 2013, 2014, 2015],\n",
       " u'fans': 102,\n",
       " u'friends': [u'rpOyqD_893cqmDAtJLbdog',\n",
       "  u'CYJnkecyF1DOXVFvBeFmtA',\n",
       "  u'GJYJX4SujVj3BR8v2F9PDQ',\n",
       "  u'Rir-YRPPClKXDFQbc3BsVw',\n",
       "  u'KCwwYd2Jc31vq9DJUltIWA',\n",
       "  u'lxZSVeJz6KEBW1nlA3JKJg',\n",
       "  u'YA6LcxRxXEyMN-jpFSBarA',\n",
       "  u'oAB-YHJSWJTl7gvQxN-Zdg',\n",
       "  u'LroJKi7_BWqDT7lbHvt6kg',\n",
       "  u'ARe8Nr_YehB2ubsGJhZ-hg',\n",
       "  u'Odjqskhor1IXb0ws1Zs9hQ',\n",
       "  u'gMOlCdsMxODvZ9G7yMZmTA',\n",
       "  u'XKmNPbbi1KfR_6h7xxKEMQ',\n",
       "  u'2hBQmM99bJWBc4TLXyFCxg',\n",
       "  u'qbfQRHLvZk5WSkKY0l_lMw',\n",
       "  u'YW_4jSO1AikO-7jKEqXb8g',\n",
       "  u'brRr5SRQyzYa6S623Kvd5Q',\n",
       "  u'DP2YVXeYJjmrKC1r4wagCA',\n",
       "  u'OMB8Y_DOaB21vCXa-cruwg',\n",
       "  u'PzR2eooXFinXlPXQY_5Big',\n",
       "  u'T4P2WPXiL0qrKUG2UyNlcw',\n",
       "  u'pkPn2VrKcKsm3kfg5fMRDA',\n",
       "  u'A69Q7QPRXs4rvbbpuDsm6g',\n",
       "  u'UKn3yyuoEWM6g11wIr_bgw',\n",
       "  u'LBDJFM3q_iiWgHW0dewDMg',\n",
       "  u'p4Jg_rO_AsCWZGMd_w8xjw',\n",
       "  u'yqv1GA5U0DgsrqHNgXbDdQ',\n",
       "  u'2AM1xS7E5afxdmFWqgzK-Q',\n",
       "  u'WMA-mhjrNJVZSkMoBD5ZWA',\n",
       "  u'AaZdXn0I6F5bdIVwGpxdDA',\n",
       "  u'igrgFZl9wDohSem0UyoP6A',\n",
       "  u'8UKLff72jxDv1SCKLjCuNw',\n",
       "  u'8t5j2eU7dWiFXBh3AvY1kg',\n",
       "  u'SjocZ3uwUAKl-vBZ0UYmuw',\n",
       "  u'JtaddrrJ8HxgAjhKsAsHHQ',\n",
       "  u'oXJqy206z77KZtECkOdh9A',\n",
       "  u'Zlc8A2wNrqrAMudJ27_H6Q',\n",
       "  u'C8ZTiwa7qWoPSMIivTeSfw',\n",
       "  u'5-4CoZMk2vYk6ojhhsw3LQ',\n",
       "  u'37aHnSKV55J9WbU-dPbK-Q',\n",
       "  u'PV_sPEmiu4_exr65jkyImA',\n",
       "  u'WYWjFF01WzwQNL_whGEkKQ',\n",
       "  u'9BApDAgV8POMQ6VffTz3aA',\n",
       "  u'nELVJlkX8T0mUAArSPSJxw',\n",
       "  u'Bj7NT_7NAHQgGys5kWGxuQ',\n",
       "  u'ZKSavEt4mmUJyT2E7Tf7rw',\n",
       "  u'P2kVk4cIWyK4e4h14RhK-Q',\n",
       "  u'TYdhRsh_KtMsWxJYG4c45g',\n",
       "  u'pfa6y2Nn2iUQE7QiKQvCRg',\n",
       "  u'5uwVhPPaz5VHfboekqKsug',\n",
       "  u'nKoB5cWZHXYUIUcQsUDogA',\n",
       "  u'iTexnSKDALtsyhpmmlrYxA',\n",
       "  u'UYocuwGPsJmRjgILc3NGFQ',\n",
       "  u'uqDmqMtt7sWHezDYQIOQAQ',\n",
       "  u's8Om9oHMk8xb_psgxTNeRA',\n",
       "  u'DBdGycigal-eU4BajGje9g',\n",
       "  u'VtlvO3WhcJEkq_ZUz-wR3A',\n",
       "  u'EKJQSvaNTVLO9VCksjHVEQ',\n",
       "  u'6wveyznYgxA0sPKEfe4wOQ',\n",
       "  u'sDiYlRaXhP8qJfCV7dS0sg',\n",
       "  u'vLtUlhN0sFbVI-0_E9M0JA',\n",
       "  u'0bNXP9quoJEgyVZu9ipGgQ',\n",
       "  u'FEDX7jt7NmAusbDUTXdArQ',\n",
       "  u'IXBKMy1SPm1Jsb8c15BY8Q',\n",
       "  u'DGdnED2qyLbFM4wO5PsPGA',\n",
       "  u'D4KxsqImcwiWW_n3gSNBTw',\n",
       "  u'8N481iGgsUYA1-TtESOntw',\n",
       "  u'JLM36sYWmouJAZ2knzst7A',\n",
       "  u'f0_QSzyQUvuuWpmJCVv_WA',\n",
       "  u'uawuKm-mhBORDjY-maDhSg',\n",
       "  u'dS02pxg9FMgcJoQEohsMCA',\n",
       "  u'7z6uuJ3fuaurG4dmdGidJw',\n",
       "  u'olzm5hG4BBdFLBQJZ16rkQ',\n",
       "  u'7QiZtwCBVytrdkHDMqhipw',\n",
       "  u'wyImbYrkOHJ8fuiJU-swng',\n",
       "  u'VWMqvLqHyVmqKEJ5iOytug',\n",
       "  u'd0srTA1w7RHtmYAtAjASYg',\n",
       "  u'kolRBQkKOSfuNzZRbCOpog',\n",
       "  u'saiZmxzBIowJbMgPBW1Now',\n",
       "  u'OeYOg-gGhmgIEPz2rYbpXw',\n",
       "  u'vfDW7tv6u7hqPOm5VLoXKA',\n",
       "  u'i2KwDZV-Bs_BrZjGaBn4YA',\n",
       "  u'q7Zn9s5wXAjhhSJMf7GiVg',\n",
       "  u'0oRtnPHtvZIE1UNxCDDTPw',\n",
       "  u'r8xfTpifZ7gP5Cd5CSQaIQ',\n",
       "  u'fwsJGulnozT2U6FefsLiFw',\n",
       "  u'S34TMRDv6x8f3HrqWI_C9g',\n",
       "  u'-uslRG-oovrIkvJu2LBW2g',\n",
       "  u'C7nUczj6n0ouxWqp1I7cNQ',\n",
       "  u'YiD2BswAfJBxLstIJoFwlw',\n",
       "  u'kuP0AMnSGgkLfNSt0wOAgA',\n",
       "  u'SfGbRS493LsfeNm4lsCYgg',\n",
       "  u'oDO8TUHqP5b1Dq60xITLyA',\n",
       "  u'BCU34iLQ9kHqslWU9fFYzA',\n",
       "  u'fGEaqZXAZC4HfI387BiL9A',\n",
       "  u'E6JVr7Pxox2ZbN7t85H2Bw',\n",
       "  u'bM2OTIopnFoaQGLxK2PxPg',\n",
       "  u'PWXJpyVyAKtVehw4suOimg',\n",
       "  u'lZlc-MtBUuC0aaED2fMciA',\n",
       "  u'NqiiaTVpjwH9K9tOIVf8Ew',\n",
       "  u'rjmiAGRbdj56KmLrEnYmqA',\n",
       "  u'dZXlBNGaTXd3iiKIWcdjwA',\n",
       "  u'fuz6ez4EYHTPuYbfg350mQ',\n",
       "  u'VRCl0XzcC3n5RzfuU3gu3w',\n",
       "  u'LdEq_hOTltUD_PX_9_qlRg',\n",
       "  u'q-9AkJs7cy6MfeDOsZrcPA',\n",
       "  u'BSQmoTcR0B6N1tLinraGZg',\n",
       "  u'XplSMqK1O7gtvDMU4iTNZQ',\n",
       "  u'8p4at4zdzCpueAmSBaorZA',\n",
       "  u'74rd8KD6U3EZ7BYk0Be7mA',\n",
       "  u'AgARllvBE2wIopbJSuSXPg',\n",
       "  u'r7D0pHMJC_tsh3lsF-q_SQ',\n",
       "  u'J1ATkrYS0IUkV4u-bkltgA',\n",
       "  u'us3-DTnZzvZdZh9za_VXbA',\n",
       "  u'LP-if-G7VkaJwT27VI-ynA',\n",
       "  u'RaytVI6pLjFIUX0CVrEE5w',\n",
       "  u'dDdinrAqDdeR-LVhAuiOyg',\n",
       "  u'1Lu8MAjA8byyrwHQoYpiVQ',\n",
       "  u'wgcZ6blNmIpIREuJN1vhXw',\n",
       "  u'neOOSMNWcVL0o2Xwb0goVg',\n",
       "  u'kpzTUs8R1zQ4mChkE4esJA',\n",
       "  u'6rhAsfzfeb1hb91bQBipKg',\n",
       "  u'gdD47sbuixj69H9zEGsWOg',\n",
       "  u'CU1QEnI5Jy2JcEKmHxlAHw',\n",
       "  u'mRcpeDUj6iUz03oteQaKIA',\n",
       "  u'3DhYF6MRZ8QeUR-rXO7q8Q',\n",
       "  u'H0Ziwf9GarXZIMaOIXvOwg',\n",
       "  u'Rh3tvmwW5lb_kCr087dQng',\n",
       "  u'9OZH1Ecw-qUkCW5MS0NefA',\n",
       "  u'3N2T3sElc83PNASWhHmuPQ',\n",
       "  u'GJrGPKF2xxB06Es6aH1VWg',\n",
       "  u'ZS4x2YD5C_kzWjHLILu79A',\n",
       "  u'JbAeIYc89Sk8SWmrBCJs9g',\n",
       "  u'DAWEkawCh_O3HqCg-mjfHg',\n",
       "  u'hHzqjprpqOzyqy_qphdGlA',\n",
       "  u'FC-zS8TEFmgZHcvF37EXrQ',\n",
       "  u'BRydUrmdK4pZsbUvZ8tBAw',\n",
       "  u'YZFB86cVghB7PWPYdLxzdQ',\n",
       "  u'Mi2CL8MrvZes1dV5iKVmIQ',\n",
       "  u'CmRLEdzpqKr4tkDGBl586Q',\n",
       "  u'4zrC-JA-n5BE2MXsG2NP9A',\n",
       "  u'dHFdI-N53nml6WoS87msNw',\n",
       "  u'VFL4LY37bEvyDPobGoxvXg',\n",
       "  u'0Q2QhRuyD_oGodCj__wcvQ',\n",
       "  u'kxe4OJqaVL3g6GiSa11eBQ',\n",
       "  u'bAgO9_hnkDjlFAkUhCSwMQ',\n",
       "  u'4A3dQlNtdL8uaMgXbHIEHg',\n",
       "  u'TSUG9NK0BmoiMjBfiNRimw',\n",
       "  u'e3RgGXBrk9BZ4utixycubA',\n",
       "  u'jZv_gqd4bh_fyxqq8-ELTA',\n",
       "  u'pTFHnoysBOJSEOc_ug-g_A',\n",
       "  u'vcPxfKQeIvHU8RNzoT0hRg',\n",
       "  u'nbeu8VWWw4rvTYa6_Ci5zw',\n",
       "  u'X9NnQfONw1E_b8zq8q9H5Q',\n",
       "  u'QGFLP49noPFZtFePsCcT4Q',\n",
       "  u'drxPEwbovD8HKe80H1YxcQ',\n",
       "  u'fL_vy-at_-FCVwXLcACtWQ',\n",
       "  u'gdYtxVtkpTI8oeyaMMUNiw',\n",
       "  u'v0WVAfhqvAIWEHiOaOxx3Q',\n",
       "  u'4XnaKGMc-MV-95YrAH2E4g',\n",
       "  u'fy8u9MsHxUk1h78r4AlmGg',\n",
       "  u'ICNdsY1Io9G_uQ6xbdeB0g',\n",
       "  u'Pe8uxxcmV9Tpv9_zr3UJ-A',\n",
       "  u'FydH2TqrDAB9BTt6F9Tk3Q',\n",
       "  u'pCTO2ahKRrdRxo-9w8GLYw',\n",
       "  u'pBTEgXMRuSBM9VhmptqdTA',\n",
       "  u'OizQLYmpq9kKYs-7ehTpFw',\n",
       "  u'OM6bFIQ9nD_x0nXWlbBIVw'],\n",
       " u'name': u'Matthew',\n",
       " u'review_count': 1820,\n",
       " u'type': u'user',\n",
       " u'user_id': u'e-t3dRzH9bmsanmhYgSiVQ',\n",
       " u'votes': {u'cool': 2835, u'funny': 2020, u'useful': 6438},\n",
       " u'yelping_since': u'2006-05'}"
      ]
     },
     "execution_count": 5,
     "metadata": {},
     "output_type": "execute_result"
    }
   ],
   "source": [
    "userrecords[0]"
   ]
  },
  {
   "cell_type": "code",
   "execution_count": 6,
   "metadata": {
    "collapsed": false
   },
   "outputs": [
    {
     "data": {
      "text/plain": [
       "{u'business_id': u'5LBVJ2_UslInSx5n7D__xQ',\n",
       " u'date': u'2008-08-07',\n",
       " u'review_id': u'OYuPL99eMFMaDY4IZV18Rg',\n",
       " u'stars': 5,\n",
       " u'text': u'Priape is the hottest most popular gay adult bookstore in North America. \\nThey have awesome hot gay models, porn (Hot House, Titan), lube, hot club wear, leather store which most stuff is made on-site, books, magazines, and  can also get tickets for many great events such as the Black & Blue in October. \\nPriape is located in the heart of the gay village.\\nThis past weekend, they had a Star from Titan Video outside signing autographs. So Hot !',\n",
       " u'type': u'review',\n",
       " u'user_id': u'e-t3dRzH9bmsanmhYgSiVQ',\n",
       " u'votes': {u'cool': 3, u'funny': 2, u'useful': 4}}"
      ]
     },
     "execution_count": 6,
     "metadata": {},
     "output_type": "execute_result"
    }
   ],
   "source": [
    "revrecords[0]"
   ]
  },
  {
   "cell_type": "code",
   "execution_count": 7,
   "metadata": {
    "collapsed": false
   },
   "outputs": [
    {
     "data": {
      "text/plain": [
       "{u'business_id': u'5LBVJ2_UslInSx5n7D__xQ',\n",
       " u'checkin_info': {u'10-3': 1, u'13-5': 1, u'18-5': 1, u'20-1': 1},\n",
       " u'type': u'checkin'}"
      ]
     },
     "execution_count": 7,
     "metadata": {},
     "output_type": "execute_result"
    }
   ],
   "source": [
    "checkinrecords[0]"
   ]
  },
  {
   "cell_type": "code",
   "execution_count": 8,
   "metadata": {
    "collapsed": true
   },
   "outputs": [],
   "source": [
    "from pandas import DataFrame, Series"
   ]
  },
  {
   "cell_type": "code",
   "execution_count": 9,
   "metadata": {
    "collapsed": true
   },
   "outputs": [],
   "source": [
    "import pandas as pd; import numpy as np"
   ]
  },
  {
   "cell_type": "code",
   "execution_count": 10,
   "metadata": {
    "collapsed": true
   },
   "outputs": [],
   "source": [
    "bizframe = DataFrame(bizrecords)\n",
    "userframe = DataFrame(userrecords)\n",
    "revframe = DataFrame(revrecords)\n",
    "checkinframe = DataFrame(checkinrecords)"
   ]
  },
  {
   "cell_type": "code",
   "execution_count": 11,
   "metadata": {
    "collapsed": true
   },
   "outputs": [],
   "source": [
    "users_df = DataFrame(userrecords, columns=['user_id','yelping_since','review_count', 'average_stars', 'variance_in_rating', 'friends'])"
   ]
  },
  {
   "cell_type": "code",
   "execution_count": 12,
   "metadata": {
    "collapsed": false
   },
   "outputs": [
    {
     "data": {
      "text/html": [
       "<div>\n",
       "<table border=\"1\" class=\"dataframe\">\n",
       "  <thead>\n",
       "    <tr style=\"text-align: right;\">\n",
       "      <th></th>\n",
       "      <th>user_id</th>\n",
       "      <th>yelping_since</th>\n",
       "      <th>review_count</th>\n",
       "      <th>average_stars</th>\n",
       "      <th>variance_in_rating</th>\n",
       "      <th>friends</th>\n",
       "    </tr>\n",
       "  </thead>\n",
       "  <tbody>\n",
       "    <tr>\n",
       "      <th>0</th>\n",
       "      <td>e-t3dRzH9bmsanmhYgSiVQ</td>\n",
       "      <td>2006-05</td>\n",
       "      <td>1820</td>\n",
       "      <td>3.52</td>\n",
       "      <td>NaN</td>\n",
       "      <td>[rpOyqD_893cqmDAtJLbdog, CYJnkecyF1DOXVFvBeFmt...</td>\n",
       "    </tr>\n",
       "    <tr>\n",
       "      <th>1</th>\n",
       "      <td>uF1-c9oji5qiHntYsmfKGg</td>\n",
       "      <td>2011-11</td>\n",
       "      <td>1444</td>\n",
       "      <td>3.85</td>\n",
       "      <td>NaN</td>\n",
       "      <td>[rpOyqD_893cqmDAtJLbdog, 8J4IIYcqBlFch8T90N923...</td>\n",
       "    </tr>\n",
       "    <tr>\n",
       "      <th>2</th>\n",
       "      <td>NUNVFFv_VEyVn3G7kg1V8g</td>\n",
       "      <td>2009-09</td>\n",
       "      <td>44</td>\n",
       "      <td>3.47</td>\n",
       "      <td>NaN</td>\n",
       "      <td>[snd45oedwXxF9tsHUX_6dg]</td>\n",
       "    </tr>\n",
       "    <tr>\n",
       "      <th>3</th>\n",
       "      <td>0KZsDw5pGKrYEWGXg9oUsg</td>\n",
       "      <td>2008-05</td>\n",
       "      <td>394</td>\n",
       "      <td>3.45</td>\n",
       "      <td>NaN</td>\n",
       "      <td>[uguXfIEpI65jSCH5MgUDgA, Rir-YRPPClKXDFQbc3BsV...</td>\n",
       "    </tr>\n",
       "    <tr>\n",
       "      <th>4</th>\n",
       "      <td>gMOlCdsMxODvZ9G7yMZmTA</td>\n",
       "      <td>2006-02</td>\n",
       "      <td>482</td>\n",
       "      <td>3.39</td>\n",
       "      <td>NaN</td>\n",
       "      <td>[GJYJX4SujVj3BR8v2F9PDQ, WGf64PeXIZtdoqkBj0-_z...</td>\n",
       "    </tr>\n",
       "    <tr>\n",
       "      <th>5</th>\n",
       "      <td>cZY5YYDJywlgmVfCr-K9vQ</td>\n",
       "      <td>2009-05</td>\n",
       "      <td>222</td>\n",
       "      <td>3.49</td>\n",
       "      <td>NaN</td>\n",
       "      <td>[mTe0H6OteDEoEYp_O4AgMQ, 4j_Otx9PfVPrFP8xfuH7D...</td>\n",
       "    </tr>\n",
       "    <tr>\n",
       "      <th>6</th>\n",
       "      <td>dFC0MPQQNu89a9LpfL4PhA</td>\n",
       "      <td>2009-01</td>\n",
       "      <td>198</td>\n",
       "      <td>3.79</td>\n",
       "      <td>NaN</td>\n",
       "      <td>[rpOyqD_893cqmDAtJLbdog, 8E0DGec8LNn6oDmPHmj-m...</td>\n",
       "    </tr>\n",
       "    <tr>\n",
       "      <th>7</th>\n",
       "      <td>s0y6bqr8uDQdB65W7Vdy4Q</td>\n",
       "      <td>2011-01</td>\n",
       "      <td>2</td>\n",
       "      <td>3.00</td>\n",
       "      <td>NaN</td>\n",
       "      <td>[]</td>\n",
       "    </tr>\n",
       "    <tr>\n",
       "      <th>8</th>\n",
       "      <td>H0TE5OCbgfjv45ArYyErsQ</td>\n",
       "      <td>2011-04</td>\n",
       "      <td>433</td>\n",
       "      <td>3.77</td>\n",
       "      <td>NaN</td>\n",
       "      <td>[GcDR6pgjbuSvG4nxMUzWcw, 4j_Otx9PfVPrFP8xfuH7D...</td>\n",
       "    </tr>\n",
       "    <tr>\n",
       "      <th>9</th>\n",
       "      <td>22-6yC05pgWbLupHZTjQig</td>\n",
       "      <td>2009-11</td>\n",
       "      <td>5050</td>\n",
       "      <td>3.26</td>\n",
       "      <td>NaN</td>\n",
       "      <td>[nADIxfovhb5Dj6nPoZwHGg, mAuBHENS_DeFCQqrJC_Ux...</td>\n",
       "    </tr>\n",
       "  </tbody>\n",
       "</table>\n",
       "</div>"
      ],
      "text/plain": [
       "                  user_id yelping_since  review_count  average_stars  \\\n",
       "0  e-t3dRzH9bmsanmhYgSiVQ       2006-05          1820           3.52   \n",
       "1  uF1-c9oji5qiHntYsmfKGg       2011-11          1444           3.85   \n",
       "2  NUNVFFv_VEyVn3G7kg1V8g       2009-09            44           3.47   \n",
       "3  0KZsDw5pGKrYEWGXg9oUsg       2008-05           394           3.45   \n",
       "4  gMOlCdsMxODvZ9G7yMZmTA       2006-02           482           3.39   \n",
       "5  cZY5YYDJywlgmVfCr-K9vQ       2009-05           222           3.49   \n",
       "6  dFC0MPQQNu89a9LpfL4PhA       2009-01           198           3.79   \n",
       "7  s0y6bqr8uDQdB65W7Vdy4Q       2011-01             2           3.00   \n",
       "8  H0TE5OCbgfjv45ArYyErsQ       2011-04           433           3.77   \n",
       "9  22-6yC05pgWbLupHZTjQig       2009-11          5050           3.26   \n",
       "\n",
       "   variance_in_rating                                            friends  \n",
       "0                 NaN  [rpOyqD_893cqmDAtJLbdog, CYJnkecyF1DOXVFvBeFmt...  \n",
       "1                 NaN  [rpOyqD_893cqmDAtJLbdog, 8J4IIYcqBlFch8T90N923...  \n",
       "2                 NaN                           [snd45oedwXxF9tsHUX_6dg]  \n",
       "3                 NaN  [uguXfIEpI65jSCH5MgUDgA, Rir-YRPPClKXDFQbc3BsV...  \n",
       "4                 NaN  [GJYJX4SujVj3BR8v2F9PDQ, WGf64PeXIZtdoqkBj0-_z...  \n",
       "5                 NaN  [mTe0H6OteDEoEYp_O4AgMQ, 4j_Otx9PfVPrFP8xfuH7D...  \n",
       "6                 NaN  [rpOyqD_893cqmDAtJLbdog, 8E0DGec8LNn6oDmPHmj-m...  \n",
       "7                 NaN                                                 []  \n",
       "8                 NaN  [GcDR6pgjbuSvG4nxMUzWcw, 4j_Otx9PfVPrFP8xfuH7D...  \n",
       "9                 NaN  [nADIxfovhb5Dj6nPoZwHGg, mAuBHENS_DeFCQqrJC_Ux...  "
      ]
     },
     "execution_count": 12,
     "metadata": {},
     "output_type": "execute_result"
    }
   ],
   "source": [
    "users_df.head(n=10)"
   ]
  },
  {
   "cell_type": "code",
   "execution_count": 13,
   "metadata": {
    "collapsed": false
   },
   "outputs": [],
   "source": [
    "from datetime import datetime"
   ]
  },
  {
   "cell_type": "code",
   "execution_count": 14,
   "metadata": {
    "collapsed": true
   },
   "outputs": [],
   "source": [
    "from dateutil import relativedelta"
   ]
  },
  {
   "cell_type": "code",
   "execution_count": 15,
   "metadata": {
    "collapsed": false
   },
   "outputs": [],
   "source": [
    "date1 = datetime.now()"
   ]
  },
  {
   "cell_type": "code",
   "execution_count": 16,
   "metadata": {
    "collapsed": false
   },
   "outputs": [],
   "source": [
    "for i, row in users_df.iterrows():\n",
    "  y_s = row['yelping_since']\n",
    "  date2 = datetime.strptime(y_s, '%Y-%m') \n",
    "  r = relativedelta.relativedelta(date1, date2)\n",
    "  yelp_months = r.months + r.years*12\n",
    "  users_df.set_value(i,'yelping_since',yelp_months)"
   ]
  },
  {
   "cell_type": "code",
   "execution_count": 17,
   "metadata": {
    "collapsed": false
   },
   "outputs": [],
   "source": [
    "for i, row in users_df.iterrows():\n",
    "    friend_count = len(row['friends'])\n",
    "    users_df.set_value(i,'friends',friend_count)"
   ]
  },
  {
   "cell_type": "code",
   "execution_count": 18,
   "metadata": {
    "collapsed": false
   },
   "outputs": [
    {
     "data": {
      "text/html": [
       "<div>\n",
       "<table border=\"1\" class=\"dataframe\">\n",
       "  <thead>\n",
       "    <tr style=\"text-align: right;\">\n",
       "      <th></th>\n",
       "      <th>user_id</th>\n",
       "      <th>yelping_since</th>\n",
       "      <th>review_count</th>\n",
       "      <th>average_stars</th>\n",
       "      <th>variance_in_rating</th>\n",
       "      <th>friends</th>\n",
       "    </tr>\n",
       "  </thead>\n",
       "  <tbody>\n",
       "    <tr>\n",
       "      <th>0</th>\n",
       "      <td>e-t3dRzH9bmsanmhYgSiVQ</td>\n",
       "      <td>118</td>\n",
       "      <td>1820</td>\n",
       "      <td>3.52</td>\n",
       "      <td>NaN</td>\n",
       "      <td>168</td>\n",
       "    </tr>\n",
       "    <tr>\n",
       "      <th>1</th>\n",
       "      <td>uF1-c9oji5qiHntYsmfKGg</td>\n",
       "      <td>52</td>\n",
       "      <td>1444</td>\n",
       "      <td>3.85</td>\n",
       "      <td>NaN</td>\n",
       "      <td>784</td>\n",
       "    </tr>\n",
       "    <tr>\n",
       "      <th>2</th>\n",
       "      <td>NUNVFFv_VEyVn3G7kg1V8g</td>\n",
       "      <td>78</td>\n",
       "      <td>44</td>\n",
       "      <td>3.47</td>\n",
       "      <td>NaN</td>\n",
       "      <td>1</td>\n",
       "    </tr>\n",
       "    <tr>\n",
       "      <th>3</th>\n",
       "      <td>0KZsDw5pGKrYEWGXg9oUsg</td>\n",
       "      <td>94</td>\n",
       "      <td>394</td>\n",
       "      <td>3.45</td>\n",
       "      <td>NaN</td>\n",
       "      <td>22</td>\n",
       "    </tr>\n",
       "    <tr>\n",
       "      <th>4</th>\n",
       "      <td>gMOlCdsMxODvZ9G7yMZmTA</td>\n",
       "      <td>121</td>\n",
       "      <td>482</td>\n",
       "      <td>3.39</td>\n",
       "      <td>NaN</td>\n",
       "      <td>33</td>\n",
       "    </tr>\n",
       "    <tr>\n",
       "      <th>5</th>\n",
       "      <td>cZY5YYDJywlgmVfCr-K9vQ</td>\n",
       "      <td>82</td>\n",
       "      <td>222</td>\n",
       "      <td>3.49</td>\n",
       "      <td>NaN</td>\n",
       "      <td>6</td>\n",
       "    </tr>\n",
       "    <tr>\n",
       "      <th>6</th>\n",
       "      <td>dFC0MPQQNu89a9LpfL4PhA</td>\n",
       "      <td>86</td>\n",
       "      <td>198</td>\n",
       "      <td>3.79</td>\n",
       "      <td>NaN</td>\n",
       "      <td>10</td>\n",
       "    </tr>\n",
       "    <tr>\n",
       "      <th>7</th>\n",
       "      <td>s0y6bqr8uDQdB65W7Vdy4Q</td>\n",
       "      <td>62</td>\n",
       "      <td>2</td>\n",
       "      <td>3.00</td>\n",
       "      <td>NaN</td>\n",
       "      <td>0</td>\n",
       "    </tr>\n",
       "    <tr>\n",
       "      <th>8</th>\n",
       "      <td>H0TE5OCbgfjv45ArYyErsQ</td>\n",
       "      <td>59</td>\n",
       "      <td>433</td>\n",
       "      <td>3.77</td>\n",
       "      <td>NaN</td>\n",
       "      <td>3</td>\n",
       "    </tr>\n",
       "    <tr>\n",
       "      <th>9</th>\n",
       "      <td>22-6yC05pgWbLupHZTjQig</td>\n",
       "      <td>76</td>\n",
       "      <td>5050</td>\n",
       "      <td>3.26</td>\n",
       "      <td>NaN</td>\n",
       "      <td>38</td>\n",
       "    </tr>\n",
       "  </tbody>\n",
       "</table>\n",
       "</div>"
      ],
      "text/plain": [
       "                  user_id yelping_since  review_count  average_stars  \\\n",
       "0  e-t3dRzH9bmsanmhYgSiVQ           118          1820           3.52   \n",
       "1  uF1-c9oji5qiHntYsmfKGg            52          1444           3.85   \n",
       "2  NUNVFFv_VEyVn3G7kg1V8g            78            44           3.47   \n",
       "3  0KZsDw5pGKrYEWGXg9oUsg            94           394           3.45   \n",
       "4  gMOlCdsMxODvZ9G7yMZmTA           121           482           3.39   \n",
       "5  cZY5YYDJywlgmVfCr-K9vQ            82           222           3.49   \n",
       "6  dFC0MPQQNu89a9LpfL4PhA            86           198           3.79   \n",
       "7  s0y6bqr8uDQdB65W7Vdy4Q            62             2           3.00   \n",
       "8  H0TE5OCbgfjv45ArYyErsQ            59           433           3.77   \n",
       "9  22-6yC05pgWbLupHZTjQig            76          5050           3.26   \n",
       "\n",
       "   variance_in_rating friends  \n",
       "0                 NaN     168  \n",
       "1                 NaN     784  \n",
       "2                 NaN       1  \n",
       "3                 NaN      22  \n",
       "4                 NaN      33  \n",
       "5                 NaN       6  \n",
       "6                 NaN      10  \n",
       "7                 NaN       0  \n",
       "8                 NaN       3  \n",
       "9                 NaN      38  "
      ]
     },
     "execution_count": 18,
     "metadata": {},
     "output_type": "execute_result"
    }
   ],
   "source": [
    "users_df.head(n=10)"
   ]
  }
 ],
 "metadata": {
  "kernelspec": {
   "display_name": "Python 2",
   "language": "python",
   "name": "python2"
  },
  "language_info": {
   "codemirror_mode": {
    "name": "ipython",
    "version": 2
   },
   "file_extension": ".py",
   "mimetype": "text/x-python",
   "name": "python",
   "nbconvert_exporter": "python",
   "pygments_lexer": "ipython2",
   "version": "2.7.11"
  }
 },
 "nbformat": 4,
 "nbformat_minor": 0
}
