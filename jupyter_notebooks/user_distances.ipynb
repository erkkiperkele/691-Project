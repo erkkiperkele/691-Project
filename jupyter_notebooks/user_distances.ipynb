{
 "cells": [
  {
   "cell_type": "code",
   "execution_count": 1,
   "metadata": {
    "collapsed": true
   },
   "outputs": [],
   "source": [
    "from pandas import DataFrame, Series\n",
    "import pandas as pd; import numpy as np"
   ]
  },
  {
   "cell_type": "code",
   "execution_count": 5,
   "metadata": {
    "collapsed": false
   },
   "outputs": [
    {
     "data": {
      "text/html": [
       "<div>\n",
       "<table border=\"1\" class=\"dataframe\">\n",
       "  <thead>\n",
       "    <tr style=\"text-align: right;\">\n",
       "      <th></th>\n",
       "      <th>categories_avg_rating</th>\n",
       "      <th>categories_biz_count</th>\n",
       "      <th>categories_reviews</th>\n",
       "      <th>std_dev_rating</th>\n",
       "      <th>total_reviews</th>\n",
       "      <th>user_id</th>\n",
       "    </tr>\n",
       "  </thead>\n",
       "  <tbody>\n",
       "    <tr>\n",
       "      <th>0</th>\n",
       "      <td>5</td>\n",
       "      <td>1</td>\n",
       "      <td>1</td>\n",
       "      <td>0</td>\n",
       "      <td>4</td>\n",
       "      <td>-BjekrEUhweLVyrjVStMgg</td>\n",
       "    </tr>\n",
       "    <tr>\n",
       "      <th>1</th>\n",
       "      <td>5</td>\n",
       "      <td>1</td>\n",
       "      <td>1</td>\n",
       "      <td>0</td>\n",
       "      <td>6</td>\n",
       "      <td>XQiaNhoZbdxaN3pJIBADvw</td>\n",
       "    </tr>\n",
       "    <tr>\n",
       "      <th>10</th>\n",
       "      <td>2</td>\n",
       "      <td>1</td>\n",
       "      <td>1</td>\n",
       "      <td>0</td>\n",
       "      <td>12</td>\n",
       "      <td>82d-mm3hB2UelHwrptvcMw</td>\n",
       "    </tr>\n",
       "    <tr>\n",
       "      <th>100</th>\n",
       "      <td>2</td>\n",
       "      <td>1</td>\n",
       "      <td>1</td>\n",
       "      <td>0</td>\n",
       "      <td>22</td>\n",
       "      <td>0XMC32Lkh6x1Yc9m9sSK0Q</td>\n",
       "    </tr>\n",
       "    <tr>\n",
       "      <th>1000</th>\n",
       "      <td>1</td>\n",
       "      <td>1</td>\n",
       "      <td>1</td>\n",
       "      <td>0</td>\n",
       "      <td>1</td>\n",
       "      <td>_j907SJO1Tzl102sXiJPLA</td>\n",
       "    </tr>\n",
       "  </tbody>\n",
       "</table>\n",
       "</div>"
      ],
      "text/plain": [
       "      categories_avg_rating  categories_biz_count  categories_reviews  \\\n",
       "0                         5                     1                   1   \n",
       "1                         5                     1                   1   \n",
       "10                        2                     1                   1   \n",
       "100                       2                     1                   1   \n",
       "1000                      1                     1                   1   \n",
       "\n",
       "      std_dev_rating  total_reviews                 user_id  \n",
       "0                  0              4  -BjekrEUhweLVyrjVStMgg  \n",
       "1                  0              6  XQiaNhoZbdxaN3pJIBADvw  \n",
       "10                 0             12  82d-mm3hB2UelHwrptvcMw  \n",
       "100                0             22  0XMC32Lkh6x1Yc9m9sSK0Q  \n",
       "1000               0              1  _j907SJO1Tzl102sXiJPLA  "
      ]
     },
     "execution_count": 5,
     "metadata": {},
     "output_type": "execute_result"
    }
   ],
   "source": [
    "#Get data only for users who have posted reviews in categories Chinese^(restaurant v food)\n",
    "import json\n",
    "USERPATH='../full_dataset/user.json'\n",
    "FS1PATH='../full_dataset/featureset1_resto_food_chinese.json'\n",
    "userframe = DataFrame([json.loads(line) for line in open(USERPATH)])[['user_id', 'friends']]\n",
    "active_users_frame = pd.read_json(FS1PATH)\n",
    "userframe = pd.merge(userframe, active_users_frame, on='user_id')[['user_id', 'friends']]\n",
    "active_users_frame = None\n",
    "userframe.head() #Keep users w/out friends: they may still post reviews, which we want to count."
   ]
  },
  {
   "cell_type": "code",
   "execution_count": 3,
   "metadata": {
    "collapsed": false
   },
   "outputs": [
    {
     "data": {
      "text/html": [
       "<div>\n",
       "<table border=\"1\" class=\"dataframe\">\n",
       "  <thead>\n",
       "    <tr style=\"text-align: right;\">\n",
       "      <th></th>\n",
       "      <th>user_id</th>\n",
       "      <th>friend_id</th>\n",
       "    </tr>\n",
       "  </thead>\n",
       "  <tbody>\n",
       "    <tr>\n",
       "      <th>0</th>\n",
       "      <td>UTS9XcT14H2ZscRIf0MYHQ</td>\n",
       "      <td>rpOyqD_893cqmDAtJLbdog</td>\n",
       "    </tr>\n",
       "    <tr>\n",
       "      <th>0</th>\n",
       "      <td>UTS9XcT14H2ZscRIf0MYHQ</td>\n",
       "      <td>4U9kSBLuBDU391x6bxU-YA</td>\n",
       "    </tr>\n",
       "    <tr>\n",
       "      <th>0</th>\n",
       "      <td>UTS9XcT14H2ZscRIf0MYHQ</td>\n",
       "      <td>Re447krbp0VQVX3Dk4Tsog</td>\n",
       "    </tr>\n",
       "    <tr>\n",
       "      <th>0</th>\n",
       "      <td>UTS9XcT14H2ZscRIf0MYHQ</td>\n",
       "      <td>kJc9YBRwmmZ_PG0uLHuEPQ</td>\n",
       "    </tr>\n",
       "    <tr>\n",
       "      <th>0</th>\n",
       "      <td>UTS9XcT14H2ZscRIf0MYHQ</td>\n",
       "      <td>Rir-YRPPClKXDFQbc3BsVw</td>\n",
       "    </tr>\n",
       "  </tbody>\n",
       "</table>\n",
       "</div>"
      ],
      "text/plain": [
       "                  user_id               friend_id\n",
       "0  UTS9XcT14H2ZscRIf0MYHQ  rpOyqD_893cqmDAtJLbdog\n",
       "0  UTS9XcT14H2ZscRIf0MYHQ  4U9kSBLuBDU391x6bxU-YA\n",
       "0  UTS9XcT14H2ZscRIf0MYHQ  Re447krbp0VQVX3Dk4Tsog\n",
       "0  UTS9XcT14H2ZscRIf0MYHQ  kJc9YBRwmmZ_PG0uLHuEPQ\n",
       "0  UTS9XcT14H2ZscRIf0MYHQ  Rir-YRPPClKXDFQbc3BsVw"
      ]
     },
     "execution_count": 3,
     "metadata": {},
     "output_type": "execute_result"
    }
   ],
   "source": [
    "#Flatten \"friends\" field, merge back into user-friend matrix\n",
    "flatteningframe = DataFrame([[i, friend]\n",
    "                                     for i, friends in userframe['friends'].apply(list).iteritems()\n",
    "                                         for friend in friends],\n",
    "                                columns=['index', 'friend_id'])\n",
    "flatteningframe = flatteningframe.set_index('index')\n",
    "graph_base_frame = pd.merge(userframe, flatteningframe, left_index = True, right_index = True)[['user_id', 'friend_id']]\n",
    "graph_base_frame.head()"
   ]
  },
  {
   "cell_type": "code",
   "execution_count": 4,
   "metadata": {
    "collapsed": false
   },
   "outputs": [
    {
     "data": {
      "text/plain": [
       "845530"
      ]
     },
     "execution_count": 4,
     "metadata": {},
     "output_type": "execute_result"
    }
   ],
   "source": [
    "flatteningframe = None\n",
    "len(graph_base_frame.index)"
   ]
  },
  {
   "cell_type": "code",
   "execution_count": null,
   "metadata": {
    "collapsed": false
   },
   "outputs": [],
   "source": [
    "#TODO: Select only authorities for this step\n",
    "user_user = pd.merge(graph_base_frame, graph_base_frame, left_on='user_id', right_id='friend_id')\n"
   ]
  }
 ],
 "metadata": {
  "kernelspec": {
   "display_name": "Python 3",
   "language": "python",
   "name": "python3"
  },
  "language_info": {
   "codemirror_mode": {
    "name": "ipython",
    "version": 3
   },
   "file_extension": ".py",
   "mimetype": "text/x-python",
   "name": "python",
   "nbconvert_exporter": "python",
   "pygments_lexer": "ipython3",
   "version": "3.5.1"
  }
 },
 "nbformat": 4,
 "nbformat_minor": 0
}
