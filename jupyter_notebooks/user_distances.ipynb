{
 "cells": [
  {
   "cell_type": "code",
   "execution_count": 1,
   "metadata": {
    "collapsed": true
   },
   "outputs": [],
   "source": [
    "from pandas import DataFrame, Series\n",
    "import pandas as pd; import numpy as np"
   ]
  },
  {
   "cell_type": "code",
   "execution_count": 2,
   "metadata": {
    "collapsed": false
   },
   "outputs": [
    {
     "data": {
      "text/html": [
       "<div>\n",
       "<table border=\"1\" class=\"dataframe\">\n",
       "  <thead>\n",
       "    <tr style=\"text-align: right;\">\n",
       "      <th></th>\n",
       "      <th>user_id</th>\n",
       "      <th>friends</th>\n",
       "    </tr>\n",
       "  </thead>\n",
       "  <tbody>\n",
       "    <tr>\n",
       "      <th>0</th>\n",
       "      <td>UTS9XcT14H2ZscRIf0MYHQ</td>\n",
       "      <td>[rpOyqD_893cqmDAtJLbdog, 4U9kSBLuBDU391x6bxU-Y...</td>\n",
       "    </tr>\n",
       "    <tr>\n",
       "      <th>1</th>\n",
       "      <td>ZWOj6LmzwGvMDh-A85EOtA</td>\n",
       "      <td>[XejvgD4CrkR7FeIkjwAjtQ, T7t5UdadpHua-YnmiFpcZ...</td>\n",
       "    </tr>\n",
       "    <tr>\n",
       "      <th>2</th>\n",
       "      <td>za5Q2uYrTmky9w_3h9k_wQ</td>\n",
       "      <td>[23bCUONbJfIrtsLgX7Dgvg, l1eXX3p2WL_02FWw5TXhs...</td>\n",
       "    </tr>\n",
       "    <tr>\n",
       "      <th>3</th>\n",
       "      <td>AzoZZ1hRToPsnUPXeRXelg</td>\n",
       "      <td>[J3rNWRLRuZJ_0xsJalIhlA, Mx-vxv_V-SQCe76w4RmUfA]</td>\n",
       "    </tr>\n",
       "    <tr>\n",
       "      <th>4</th>\n",
       "      <td>rYI9SVnGuPcWyhr1RiZgaw</td>\n",
       "      <td>[]</td>\n",
       "    </tr>\n",
       "  </tbody>\n",
       "</table>\n",
       "</div>"
      ],
      "text/plain": [
       "                  user_id                                            friends\n",
       "0  UTS9XcT14H2ZscRIf0MYHQ  [rpOyqD_893cqmDAtJLbdog, 4U9kSBLuBDU391x6bxU-Y...\n",
       "1  ZWOj6LmzwGvMDh-A85EOtA  [XejvgD4CrkR7FeIkjwAjtQ, T7t5UdadpHua-YnmiFpcZ...\n",
       "2  za5Q2uYrTmky9w_3h9k_wQ  [23bCUONbJfIrtsLgX7Dgvg, l1eXX3p2WL_02FWw5TXhs...\n",
       "3  AzoZZ1hRToPsnUPXeRXelg   [J3rNWRLRuZJ_0xsJalIhlA, Mx-vxv_V-SQCe76w4RmUfA]\n",
       "4  rYI9SVnGuPcWyhr1RiZgaw                                                 []"
      ]
     },
     "execution_count": 2,
     "metadata": {},
     "output_type": "execute_result"
    }
   ],
   "source": [
    "#Get data only for users who have posted reviews in categories Chinese^(restaurant v food)\n",
    "import json\n",
    "USERPATH='../full_dataset/user.json'\n",
    "FS1PATH='../full_dataset/featureset1_resto_food_chinese.json'\n",
    "userframe = DataFrame([json.loads(line) for line in open(USERPATH)])[['user_id', 'friends']]\n",
    "active_users_frame = pd.read_json(FS1PATH)\n",
    "userframe = pd.merge(userframe, active_users_frame, on='user_id')[['user_id', 'friends']]\n",
    "active_users_frame = None\n",
    "userframe.head() #Keep users w/out friends: they may still post reviews, which we want to count."
   ]
  },
  {
   "cell_type": "code",
   "execution_count": 3,
   "metadata": {
    "collapsed": false
   },
   "outputs": [
    {
     "data": {
      "text/html": [
       "<div>\n",
       "<table border=\"1\" class=\"dataframe\">\n",
       "  <thead>\n",
       "    <tr style=\"text-align: right;\">\n",
       "      <th></th>\n",
       "      <th>user_id</th>\n",
       "      <th>friend_id</th>\n",
       "    </tr>\n",
       "  </thead>\n",
       "  <tbody>\n",
       "    <tr>\n",
       "      <th>0</th>\n",
       "      <td>UTS9XcT14H2ZscRIf0MYHQ</td>\n",
       "      <td>rpOyqD_893cqmDAtJLbdog</td>\n",
       "    </tr>\n",
       "    <tr>\n",
       "      <th>0</th>\n",
       "      <td>UTS9XcT14H2ZscRIf0MYHQ</td>\n",
       "      <td>4U9kSBLuBDU391x6bxU-YA</td>\n",
       "    </tr>\n",
       "    <tr>\n",
       "      <th>0</th>\n",
       "      <td>UTS9XcT14H2ZscRIf0MYHQ</td>\n",
       "      <td>Re447krbp0VQVX3Dk4Tsog</td>\n",
       "    </tr>\n",
       "    <tr>\n",
       "      <th>0</th>\n",
       "      <td>UTS9XcT14H2ZscRIf0MYHQ</td>\n",
       "      <td>kJc9YBRwmmZ_PG0uLHuEPQ</td>\n",
       "    </tr>\n",
       "    <tr>\n",
       "      <th>0</th>\n",
       "      <td>UTS9XcT14H2ZscRIf0MYHQ</td>\n",
       "      <td>Rir-YRPPClKXDFQbc3BsVw</td>\n",
       "    </tr>\n",
       "  </tbody>\n",
       "</table>\n",
       "</div>"
      ],
      "text/plain": [
       "                  user_id               friend_id\n",
       "0  UTS9XcT14H2ZscRIf0MYHQ  rpOyqD_893cqmDAtJLbdog\n",
       "0  UTS9XcT14H2ZscRIf0MYHQ  4U9kSBLuBDU391x6bxU-YA\n",
       "0  UTS9XcT14H2ZscRIf0MYHQ  Re447krbp0VQVX3Dk4Tsog\n",
       "0  UTS9XcT14H2ZscRIf0MYHQ  kJc9YBRwmmZ_PG0uLHuEPQ\n",
       "0  UTS9XcT14H2ZscRIf0MYHQ  Rir-YRPPClKXDFQbc3BsVw"
      ]
     },
     "execution_count": 3,
     "metadata": {},
     "output_type": "execute_result"
    }
   ],
   "source": [
    "#Flatten \"friends\" field, merge back into user-friend matrix\n",
    "flatteningframe = DataFrame([[i, friend]\n",
    "                                     for i, friends in userframe['friends'].apply(list).iteritems()\n",
    "                                         for friend in friends],\n",
    "                                columns=['index', 'friend_id'])\n",
    "flatteningframe = flatteningframe.set_index('index')\n",
    "graph_base_frame = pd.merge(userframe, flatteningframe, left_index = True, right_index = True)[['user_id', 'friend_id']]\n",
    "graph_base_frame.head()"
   ]
  },
  {
   "cell_type": "code",
   "execution_count": 4,
   "metadata": {
    "collapsed": false
   },
   "outputs": [
    {
     "data": {
      "text/plain": [
       "845530"
      ]
     },
     "execution_count": 4,
     "metadata": {},
     "output_type": "execute_result"
    }
   ],
   "source": [
    "flatteningframe = None\n",
    "len(graph_base_frame.index)"
   ]
  },
  {
   "cell_type": "code",
   "execution_count": 5,
   "metadata": {
    "collapsed": false
   },
   "outputs": [
    {
     "data": {
      "text/plain": [
       "4429"
      ]
     },
     "execution_count": 5,
     "metadata": {},
     "output_type": "execute_result"
    }
   ],
   "source": [
    "#TODO: Select only authorities for this step\n",
    "elite_users = pd.read_json('../full_dataset/elite_users.json')\n",
    "user_user = DataFrame(pd.merge(elite_users, graph_base_frame, left_on='user_id', right_on='user_id')[['user_id', 'friend_id']])\n",
    "user_user['distance'] = 1\n",
    "elite_users = None\n",
    "len(user_user.index)"
   ]
  },
  {
   "cell_type": "code",
   "execution_count": 6,
   "metadata": {
    "collapsed": false
   },
   "outputs": [
    {
     "data": {
      "text/plain": [
       "297366"
      ]
     },
     "execution_count": 6,
     "metadata": {},
     "output_type": "execute_result"
    }
   ],
   "source": [
    "currentGraph = DataFrame(pd.merge(user_user, graph_base_frame, left_on='friend_id', right_on='user_id')[['user_id_x', 'friend_id_y']])\n",
    "currentGraph['distance'] = 2\n",
    "currentGraph.columns = ['user_id', 'friend_id', 'distance']\n",
    "user_user = pd.concat([user_user, currentGraph])\n",
    "user_user = user_user.drop_duplicates(subset=['user_id', 'friend_id'], keep='first')\n",
    "currentGraph = user_user.loc[user_user['distance'] == 2][['user_id', 'friend_id']]\n",
    "len(currentGraph.index)"
   ]
  },
  {
   "cell_type": "code",
   "execution_count": 7,
   "metadata": {
    "collapsed": false
   },
   "outputs": [
    {
     "data": {
      "text/plain": [
       "2055174"
      ]
     },
     "execution_count": 7,
     "metadata": {},
     "output_type": "execute_result"
    }
   ],
   "source": [
    "currentGraph = DataFrame(pd.merge(currentGraph, graph_base_frame, left_on='friend_id', right_on='user_id')[['user_id_x', 'friend_id_y']])\n",
    "currentGraph['distance'] = 3\n",
    "currentGraph.columns = ['user_id', 'friend_id', 'distance']\n",
    "user_user = pd.concat([user_user, currentGraph])\n",
    "user_user = user_user.drop_duplicates(subset=['user_id', 'friend_id'], keep='first')\n",
    "currentGraph = user_user.loc[user_user['distance'] == 3][['user_id', 'friend_id']]\n",
    "len(currentGraph.index)"
   ]
  },
  {
   "cell_type": "code",
   "execution_count": 8,
   "metadata": {
    "collapsed": false
   },
   "outputs": [
    {
     "data": {
      "text/plain": [
       "2085232"
      ]
     },
     "execution_count": 8,
     "metadata": {},
     "output_type": "execute_result"
    }
   ],
   "source": [
    "currentGraph = DataFrame(pd.merge(currentGraph, graph_base_frame, left_on='friend_id', right_on='user_id')[['user_id_x', 'friend_id_y']])\n",
    "currentGraph['distance'] = 4\n",
    "currentGraph.columns = ['user_id', 'friend_id', 'distance']\n",
    "user_user = pd.concat([user_user, currentGraph])\n",
    "user_user = user_user.drop_duplicates(subset=['user_id', 'friend_id'], keep='first')\n",
    "currentGraph = user_user.loc[user_user['distance'] == 4][['user_id', 'friend_id']]\n",
    "len(currentGraph.index)"
   ]
  },
  {
   "cell_type": "code",
   "execution_count": 9,
   "metadata": {
    "collapsed": false
   },
   "outputs": [
    {
     "data": {
      "text/plain": [
       "549613"
      ]
     },
     "execution_count": 9,
     "metadata": {},
     "output_type": "execute_result"
    }
   ],
   "source": [
    "currentGraph = DataFrame(pd.merge(currentGraph, graph_base_frame, left_on='friend_id', right_on='user_id')[['user_id_x', 'friend_id_y']])\n",
    "currentGraph['distance'] = 5\n",
    "currentGraph.columns = ['user_id', 'friend_id', 'distance']\n",
    "user_user = pd.concat([user_user, currentGraph])\n",
    "user_user = user_user.drop_duplicates(subset=['user_id', 'friend_id'], keep='first')\n",
    "currentGraph = user_user.loc[user_user['distance'] == 5][['user_id', 'friend_id']]\n",
    "len(currentGraph.index)"
   ]
  },
  {
   "cell_type": "code",
   "execution_count": 11,
   "metadata": {
    "collapsed": false
   },
   "outputs": [],
   "source": [
    "user_user = user_user.reset_index(drop=True)\n",
    "user_user.to_json('../full_dataset/user_distance_matrix.json')"
   ]
  }
 ],
 "metadata": {
  "kernelspec": {
   "display_name": "Python 3",
   "language": "python",
   "name": "python3"
  },
  "language_info": {
   "codemirror_mode": {
    "name": "ipython",
    "version": 3
   },
   "file_extension": ".py",
   "mimetype": "text/x-python",
   "name": "python",
   "nbconvert_exporter": "python",
   "pygments_lexer": "ipython3",
   "version": "3.5.1"
  }
 },
 "nbformat": 4,
 "nbformat_minor": 0
}
