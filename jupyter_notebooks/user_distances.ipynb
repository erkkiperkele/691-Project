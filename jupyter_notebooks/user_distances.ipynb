{
 "cells": [
  {
   "cell_type": "code",
   "execution_count": 1,
   "metadata": {
    "collapsed": true
   },
   "outputs": [],
   "source": [
    "from pandas import DataFrame, Series\n",
    "import pandas as pd; import numpy as np"
   ]
  },
  {
   "cell_type": "code",
   "execution_count": 2,
   "metadata": {
    "collapsed": false
   },
   "outputs": [],
   "source": [
    "#TODO: Update to useful data! This is just to get test the queries on userframe and revframe\n",
    "import json\n",
    "USERPATH='../full_dataset/user.json'\n",
    "FS1PATH='../full_dataset/featureset1_resto_food_chinese.json'\n",
    "userframe = DataFrame([json.loads(line) for line in open(USERPATH)])[['user_id', 'friends']]\n",
    "active_users_frame = pd.read_json(FS1PATH)\n",
    "userframe = pd.merge(userframe, active_users_frame, on='user_id')[['user_id', 'friends']]\n",
    "active_users_frame = None"
   ]
  },
  {
   "cell_type": "code",
   "execution_count": 3,
   "metadata": {
    "collapsed": false
   },
   "outputs": [],
   "source": [
    "#Flatten \"friends\" field\n",
    "flatteningframe = DataFrame([[i, friend]\n",
    "                                     for i, friends in userframe['friends'].apply(list).iteritems()\n",
    "                                         for friend in friends],\n",
    "                                columns=['index', 'friend_id'])\n",
    "flatteningframe = flatteningframe.set_index('index')\n",
    "graph_base_frame = pd.merge(userframe, flatteningframe, left_index = True, right_index = True)[['user_id', 'friend_id']]"
   ]
  },
  {
   "cell_type": "code",
   "execution_count": 4,
   "metadata": {
    "collapsed": false
   },
   "outputs": [
    {
     "data": {
      "text/plain": [
       "1149148"
      ]
     },
     "execution_count": 4,
     "metadata": {},
     "output_type": "execute_result"
    }
   ],
   "source": [
    "#Prune relationships\n",
    "graph_base_frame = pd.merge(graph_base_frame, userframe, left_on='friend_id', right_on='user_id')\n",
    "graph_base_frame = DataFrame(graph_base_frame.loc[graph_base_frame['user_id_y'] != None][['user_id_x', 'friend_id']])\n",
    "graph_base_frame.columns = ['user_id', 'friend_id']"
   ]
  },
  {
   "cell_type": "code",
   "execution_count": 7,
   "metadata": {
    "collapsed": false
   },
   "outputs": [
    {
     "data": {
      "text/plain": [
       "287287"
      ]
     },
     "execution_count": 7,
     "metadata": {},
     "output_type": "execute_result"
    }
   ],
   "source": [
    "len(graph_base_frame.index)\n"
   ]
  }
 ],
 "metadata": {
  "kernelspec": {
   "display_name": "Python 3",
   "language": "python",
   "name": "python3"
  },
  "language_info": {
   "codemirror_mode": {
    "name": "ipython",
    "version": 3
   },
   "file_extension": ".py",
   "mimetype": "text/x-python",
   "name": "python",
   "nbconvert_exporter": "python",
   "pygments_lexer": "ipython3",
   "version": "3.5.1"
  }
 },
 "nbformat": 4,
 "nbformat_minor": 0
}
