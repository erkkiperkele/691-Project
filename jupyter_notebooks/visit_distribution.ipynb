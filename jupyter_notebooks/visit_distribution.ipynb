{
 "cells": [
  {
   "cell_type": "code",
   "execution_count": 1,
   "metadata": {
    "collapsed": true
   },
   "outputs": [],
   "source": [
    "import pandas as pd;\n",
    "from pandas import DataFrame, Series;\n",
    "import datetime;\n",
    "import json;"
   ]
  },
  {
   "cell_type": "code",
   "execution_count": 2,
   "metadata": {
    "collapsed": false
   },
   "outputs": [
    {
     "name": "stdout",
     "output_type": "stream",
     "text": [
      "Drill is active: True\n",
      "started on: 2016-03-27 12:58:47.219968\n",
      "finished on: 2016-03-27 13:04:14.375254\n"
     ]
    }
   ],
   "source": [
    "import sys\n",
    "sys.path.insert(0, '../DAL')\n",
    "\n",
    "import dataService\n",
    "service = dataService.DataService()\n",
    "r_r = service.review_dates()"
   ]
  },
  {
   "cell_type": "code",
   "execution_count": 3,
   "metadata": {
    "collapsed": false,
    "scrolled": true
   },
   "outputs": [],
   "source": [
    "#Compute date; remove unnecessary columns & reviews\n",
    "# r_r = DataFrame(dataService.DataService.review_dates()[:100])\n",
    "lastDay = datetime.datetime(2015, 12, 24)\n",
    "r_r['reference_date'] = r_r['reference_date'].map(lambda x: (lastDay - datetime.datetime.strptime(x, '%Y-%m-%d')).days)\n",
    "r_r['review_date'] = r_r['review_date'].map(lambda x: (lastDay - datetime.datetime.strptime(x, '%Y-%m-%d')).days)"
   ]
  },
  {
   "cell_type": "code",
   "execution_count": 4,
   "metadata": {
    "collapsed": false
   },
   "outputs": [
    {
     "data": {
      "text/html": [
       "<div>\n",
       "<table border=\"1\" class=\"dataframe\">\n",
       "  <thead>\n",
       "    <tr style=\"text-align: right;\">\n",
       "      <th></th>\n",
       "      <th>reference_id</th>\n",
       "      <th>reference_date</th>\n",
       "      <th>authority_stars</th>\n",
       "      <th>authority_id</th>\n",
       "      <th>review_id</th>\n",
       "      <th>review_date</th>\n",
       "      <th>user_id</th>\n",
       "      <th>validation_token</th>\n",
       "    </tr>\n",
       "  </thead>\n",
       "  <tbody>\n",
       "    <tr>\n",
       "      <th>0</th>\n",
       "      <td>d3w57QihQsYNDmZi3x1x8w</td>\n",
       "      <td>507</td>\n",
       "      <td>3</td>\n",
       "      <td>9OZH1Ecw-qUkCW5MS0NefA</td>\n",
       "      <td>fpJ_Bgho7G3E-_WWaMJpjA</td>\n",
       "      <td>2029</td>\n",
       "      <td>YKDw2WGj-MQjz7eRsb5FHg</td>\n",
       "      <td>9OZH1Ecw-qUkCW5MS0NefAYKDw2WGj-MQjz7eRsb5FHg</td>\n",
       "    </tr>\n",
       "    <tr>\n",
       "      <th>1</th>\n",
       "      <td>d3w57QihQsYNDmZi3x1x8w</td>\n",
       "      <td>507</td>\n",
       "      <td>3</td>\n",
       "      <td>9OZH1Ecw-qUkCW5MS0NefA</td>\n",
       "      <td>nuZlz-65cXIsLZPGk6EwDw</td>\n",
       "      <td>1807</td>\n",
       "      <td>_CtkjL-e6O_lMShkN6HuSA</td>\n",
       "      <td>9OZH1Ecw-qUkCW5MS0NefA_CtkjL-e6O_lMShkN6HuSA</td>\n",
       "    </tr>\n",
       "    <tr>\n",
       "      <th>2</th>\n",
       "      <td>d3w57QihQsYNDmZi3x1x8w</td>\n",
       "      <td>507</td>\n",
       "      <td>3</td>\n",
       "      <td>9OZH1Ecw-qUkCW5MS0NefA</td>\n",
       "      <td>DtWoMT9VcFX9ycdZFpZoow</td>\n",
       "      <td>1510</td>\n",
       "      <td>0kRiaCs6damnnCpjPNOqRw</td>\n",
       "      <td>9OZH1Ecw-qUkCW5MS0NefA0kRiaCs6damnnCpjPNOqRw</td>\n",
       "    </tr>\n",
       "    <tr>\n",
       "      <th>3</th>\n",
       "      <td>d3w57QihQsYNDmZi3x1x8w</td>\n",
       "      <td>507</td>\n",
       "      <td>3</td>\n",
       "      <td>9OZH1Ecw-qUkCW5MS0NefA</td>\n",
       "      <td>M28dSKnyInjQu0I9NJlfig</td>\n",
       "      <td>1000</td>\n",
       "      <td>RJgfj-6Uq-lyiPJJcyCVlQ</td>\n",
       "      <td>9OZH1Ecw-qUkCW5MS0NefARJgfj-6Uq-lyiPJJcyCVlQ</td>\n",
       "    </tr>\n",
       "    <tr>\n",
       "      <th>4</th>\n",
       "      <td>d3w57QihQsYNDmZi3x1x8w</td>\n",
       "      <td>507</td>\n",
       "      <td>3</td>\n",
       "      <td>9OZH1Ecw-qUkCW5MS0NefA</td>\n",
       "      <td>QRRumDA7QEUGwQ2sD_KswA</td>\n",
       "      <td>927</td>\n",
       "      <td>fTg6Rz2Rs1LLYN_U7TJbcQ</td>\n",
       "      <td>9OZH1Ecw-qUkCW5MS0NefAfTg6Rz2Rs1LLYN_U7TJbcQ</td>\n",
       "    </tr>\n",
       "  </tbody>\n",
       "</table>\n",
       "</div>"
      ],
      "text/plain": [
       "             reference_id  reference_date authority_stars  \\\n",
       "0  d3w57QihQsYNDmZi3x1x8w             507               3   \n",
       "1  d3w57QihQsYNDmZi3x1x8w             507               3   \n",
       "2  d3w57QihQsYNDmZi3x1x8w             507               3   \n",
       "3  d3w57QihQsYNDmZi3x1x8w             507               3   \n",
       "4  d3w57QihQsYNDmZi3x1x8w             507               3   \n",
       "\n",
       "             authority_id               review_id  review_date  \\\n",
       "0  9OZH1Ecw-qUkCW5MS0NefA  fpJ_Bgho7G3E-_WWaMJpjA         2029   \n",
       "1  9OZH1Ecw-qUkCW5MS0NefA  nuZlz-65cXIsLZPGk6EwDw         1807   \n",
       "2  9OZH1Ecw-qUkCW5MS0NefA  DtWoMT9VcFX9ycdZFpZoow         1510   \n",
       "3  9OZH1Ecw-qUkCW5MS0NefA  M28dSKnyInjQu0I9NJlfig         1000   \n",
       "4  9OZH1Ecw-qUkCW5MS0NefA  QRRumDA7QEUGwQ2sD_KswA          927   \n",
       "\n",
       "                  user_id                              validation_token  \n",
       "0  YKDw2WGj-MQjz7eRsb5FHg  9OZH1Ecw-qUkCW5MS0NefAYKDw2WGj-MQjz7eRsb5FHg  \n",
       "1  _CtkjL-e6O_lMShkN6HuSA  9OZH1Ecw-qUkCW5MS0NefA_CtkjL-e6O_lMShkN6HuSA  \n",
       "2  0kRiaCs6damnnCpjPNOqRw  9OZH1Ecw-qUkCW5MS0NefA0kRiaCs6damnnCpjPNOqRw  \n",
       "3  RJgfj-6Uq-lyiPJJcyCVlQ  9OZH1Ecw-qUkCW5MS0NefARJgfj-6Uq-lyiPJJcyCVlQ  \n",
       "4  fTg6Rz2Rs1LLYN_U7TJbcQ  9OZH1Ecw-qUkCW5MS0NefAfTg6Rz2Rs1LLYN_U7TJbcQ  "
      ]
     },
     "execution_count": 4,
     "metadata": {},
     "output_type": "execute_result"
    }
   ],
   "source": [
    "r_r.head()"
   ]
  },
  {
   "cell_type": "code",
   "execution_count": 5,
   "metadata": {
    "collapsed": false
   },
   "outputs": [],
   "source": [
    "r_r['days_since_review'] = r_r.apply(lambda x: x['reference_date'] - x['review_date'], axis=1)\n",
    "r_r['time_distribution'] = r_r.apply(\n",
    "    lambda x: 1 if (x['days_since_review'] > 0) \n",
    "    else (\n",
    "        0 if (x['days_since_review'] + x['reference_date'] >= 0)\n",
    "        else -1\n",
    "    ), axis=1)\n",
    "# then -1)\n",
    "r_r = r_r[['authority_id', 'reference_id', 'user_id', 'review_id', 'authority_stars', 'time_distribution', 'validation_token']]\n",
    "r_r = DataFrame(r_r.loc[r_r['time_distribution'] >= 0])"
   ]
  },
  {
   "cell_type": "code",
   "execution_count": 6,
   "metadata": {
    "collapsed": false
   },
   "outputs": [],
   "source": [
    "#Add distances\n",
    "u_u = pd.read_json('../full_dataset/usergraph_vt_resto_food_chinese.json')\n",
    "r_r = pd.merge(r_r, u_u, on='validation_token')\n",
    "u_u = None"
   ]
  },
  {
   "cell_type": "code",
   "execution_count": 7,
   "metadata": {
    "collapsed": false
   },
   "outputs": [
    {
     "data": {
      "text/html": [
       "<div>\n",
       "<table border=\"1\" class=\"dataframe\">\n",
       "  <thead>\n",
       "    <tr style=\"text-align: right;\">\n",
       "      <th></th>\n",
       "      <th>authority_id</th>\n",
       "      <th>reference_id</th>\n",
       "      <th>user_id</th>\n",
       "      <th>review_id</th>\n",
       "      <th>authority_stars</th>\n",
       "      <th>time_distribution</th>\n",
       "      <th>validation_token</th>\n",
       "      <th>distance</th>\n",
       "    </tr>\n",
       "  </thead>\n",
       "  <tbody>\n",
       "    <tr>\n",
       "      <th>0</th>\n",
       "      <td>9OZH1Ecw-qUkCW5MS0NefA</td>\n",
       "      <td>d3w57QihQsYNDmZi3x1x8w</td>\n",
       "      <td>RJgfj-6Uq-lyiPJJcyCVlQ</td>\n",
       "      <td>M28dSKnyInjQu0I9NJlfig</td>\n",
       "      <td>3</td>\n",
       "      <td>0</td>\n",
       "      <td>9OZH1Ecw-qUkCW5MS0NefARJgfj-6Uq-lyiPJJcyCVlQ</td>\n",
       "      <td>3</td>\n",
       "    </tr>\n",
       "    <tr>\n",
       "      <th>1</th>\n",
       "      <td>9OZH1Ecw-qUkCW5MS0NefA</td>\n",
       "      <td>d3w57QihQsYNDmZi3x1x8w</td>\n",
       "      <td>fTg6Rz2Rs1LLYN_U7TJbcQ</td>\n",
       "      <td>QRRumDA7QEUGwQ2sD_KswA</td>\n",
       "      <td>3</td>\n",
       "      <td>0</td>\n",
       "      <td>9OZH1Ecw-qUkCW5MS0NefAfTg6Rz2Rs1LLYN_U7TJbcQ</td>\n",
       "      <td>5</td>\n",
       "    </tr>\n",
       "    <tr>\n",
       "      <th>2</th>\n",
       "      <td>9OZH1Ecw-qUkCW5MS0NefA</td>\n",
       "      <td>d3w57QihQsYNDmZi3x1x8w</td>\n",
       "      <td>9OZH1Ecw-qUkCW5MS0NefA</td>\n",
       "      <td>d3w57QihQsYNDmZi3x1x8w</td>\n",
       "      <td>3</td>\n",
       "      <td>0</td>\n",
       "      <td>9OZH1Ecw-qUkCW5MS0NefA9OZH1Ecw-qUkCW5MS0NefA</td>\n",
       "      <td>2</td>\n",
       "    </tr>\n",
       "    <tr>\n",
       "      <th>3</th>\n",
       "      <td>9OZH1Ecw-qUkCW5MS0NefA</td>\n",
       "      <td>poFXO3tkqHW3xQAv9qxvxw</td>\n",
       "      <td>9OZH1Ecw-qUkCW5MS0NefA</td>\n",
       "      <td>poFXO3tkqHW3xQAv9qxvxw</td>\n",
       "      <td>1</td>\n",
       "      <td>0</td>\n",
       "      <td>9OZH1Ecw-qUkCW5MS0NefA9OZH1Ecw-qUkCW5MS0NefA</td>\n",
       "      <td>2</td>\n",
       "    </tr>\n",
       "    <tr>\n",
       "      <th>4</th>\n",
       "      <td>9OZH1Ecw-qUkCW5MS0NefA</td>\n",
       "      <td>aD7ArFpj1D72KkVoj0WcdQ</td>\n",
       "      <td>9OZH1Ecw-qUkCW5MS0NefA</td>\n",
       "      <td>aD7ArFpj1D72KkVoj0WcdQ</td>\n",
       "      <td>3</td>\n",
       "      <td>0</td>\n",
       "      <td>9OZH1Ecw-qUkCW5MS0NefA9OZH1Ecw-qUkCW5MS0NefA</td>\n",
       "      <td>2</td>\n",
       "    </tr>\n",
       "  </tbody>\n",
       "</table>\n",
       "</div>"
      ],
      "text/plain": [
       "             authority_id            reference_id                 user_id  \\\n",
       "0  9OZH1Ecw-qUkCW5MS0NefA  d3w57QihQsYNDmZi3x1x8w  RJgfj-6Uq-lyiPJJcyCVlQ   \n",
       "1  9OZH1Ecw-qUkCW5MS0NefA  d3w57QihQsYNDmZi3x1x8w  fTg6Rz2Rs1LLYN_U7TJbcQ   \n",
       "2  9OZH1Ecw-qUkCW5MS0NefA  d3w57QihQsYNDmZi3x1x8w  9OZH1Ecw-qUkCW5MS0NefA   \n",
       "3  9OZH1Ecw-qUkCW5MS0NefA  poFXO3tkqHW3xQAv9qxvxw  9OZH1Ecw-qUkCW5MS0NefA   \n",
       "4  9OZH1Ecw-qUkCW5MS0NefA  aD7ArFpj1D72KkVoj0WcdQ  9OZH1Ecw-qUkCW5MS0NefA   \n",
       "\n",
       "                review_id authority_stars  time_distribution  \\\n",
       "0  M28dSKnyInjQu0I9NJlfig               3                  0   \n",
       "1  QRRumDA7QEUGwQ2sD_KswA               3                  0   \n",
       "2  d3w57QihQsYNDmZi3x1x8w               3                  0   \n",
       "3  poFXO3tkqHW3xQAv9qxvxw               1                  0   \n",
       "4  aD7ArFpj1D72KkVoj0WcdQ               3                  0   \n",
       "\n",
       "                               validation_token  distance  \n",
       "0  9OZH1Ecw-qUkCW5MS0NefARJgfj-6Uq-lyiPJJcyCVlQ         3  \n",
       "1  9OZH1Ecw-qUkCW5MS0NefAfTg6Rz2Rs1LLYN_U7TJbcQ         5  \n",
       "2  9OZH1Ecw-qUkCW5MS0NefA9OZH1Ecw-qUkCW5MS0NefA         2  \n",
       "3  9OZH1Ecw-qUkCW5MS0NefA9OZH1Ecw-qUkCW5MS0NefA         2  \n",
       "4  9OZH1Ecw-qUkCW5MS0NefA9OZH1Ecw-qUkCW5MS0NefA         2  "
      ]
     },
     "execution_count": 7,
     "metadata": {},
     "output_type": "execute_result"
    }
   ],
   "source": [
    "r_r.head()"
   ]
  },
  {
   "cell_type": "code",
   "execution_count": 8,
   "metadata": {
    "collapsed": false
   },
   "outputs": [],
   "source": [
    "distribution = r_r.groupby(['authority_id', 'time_distribution', 'distance', 'authority_stars']).size().reset_index()"
   ]
  },
  {
   "cell_type": "code",
   "execution_count": 9,
   "metadata": {
    "collapsed": true
   },
   "outputs": [],
   "source": [
    "distribution.to_json('../full_dataset/visit_distribution.json')"
   ]
  }
 ],
 "metadata": {
  "kernelspec": {
   "display_name": "Python 2",
   "language": "python",
   "name": "python2"
  },
  "language_info": {
   "codemirror_mode": {
    "name": "ipython",
    "version": 2
   },
   "file_extension": ".py",
   "mimetype": "text/x-python",
   "name": "python",
   "nbconvert_exporter": "python",
   "pygments_lexer": "ipython2",
   "version": "2.7.11"
  }
 },
 "nbformat": 4,
 "nbformat_minor": 0
}
