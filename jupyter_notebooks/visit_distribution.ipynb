{
 "cells": [
  {
   "cell_type": "code",
   "execution_count": null,
   "metadata": {
    "collapsed": true
   },
   "outputs": [],
   "source": [
    "import pandas as pd;\n",
    "from pandas import DataFrame, Series;\n",
    "import datetime;\n",
    "import json;"
   ]
  },
  {
   "cell_type": "code",
   "execution_count": null,
   "metadata": {
    "collapsed": false
   },
   "outputs": [],
   "source": [
    "import sys\n",
    "sys.path.insert(0, '../DAL')\n",
    "\n",
    "import dataService\n",
    "service = dataService.DataService()\n",
    "r_r = service.review_dates()"
   ]
  },
  {
   "cell_type": "code",
   "execution_count": null,
   "metadata": {
    "collapsed": false,
    "scrolled": true
   },
   "outputs": [],
   "source": [
    "#Compute date; remove unnecessary columns & reviews\n",
    "# r_r = DataFrame(dataService.DataService.review_dates()[:100])\n",
    "lastDay = datetime.datetime(2015, 12, 24)\n",
    "r_r['reference_date'] = r_r['reference_date'].map(lambda x: (lastDay - datetime.datetime.strptime(x, '%Y-%m-%d')).days)\n",
    "r_r['review_date'] = r_r['review_date'].map(lambda x: (lastDay - datetime.datetime.strptime(x, '%Y-%m-%d')).days)"
   ]
  },
  {
   "cell_type": "code",
   "execution_count": null,
   "metadata": {
    "collapsed": false
   },
   "outputs": [],
   "source": [
    "r_r.head()"
   ]
  },
  {
   "cell_type": "code",
   "execution_count": null,
   "metadata": {
    "collapsed": false
   },
   "outputs": [],
   "source": [
    "r_r['days_since_review'] = r_r.apply(lambda x: x['reference_date'] - x['review_date'], axis=1)\n",
    "r_r['time_distribution'] = r_r.apply(\n",
    "    lambda x: 1 if (x['days_since_review'] > 0) \n",
    "    else (\n",
    "        0 if (x['days_since_review'] + x['reference_date'] >= 0)\n",
    "        else -1\n",
    "    ), axis=1)\n",
    "# then -1)\n",
    "r_r = r_r[['authority_id', 'reference_id', 'user_id', 'review_id', 'authority_stars', 'time_distribution', 'validation_token']]\n",
    "r_r = DataFrame(r_r.loc[r_r['time_distribution'] >= 0])"
   ]
  },
  {
   "cell_type": "code",
   "execution_count": null,
   "metadata": {
    "collapsed": false
   },
   "outputs": [],
   "source": [
    "#Add distances\n",
    "u_u = pd.read_json('../full_dataset/user_distance_matrix.json')\n",
    "r_r = pd.merge(r_r, u_u, on='validation_token')\n",
    "u_u = None"
   ]
  },
  {
   "cell_type": "code",
   "execution_count": null,
   "metadata": {
    "collapsed": false
   },
   "outputs": [],
   "source": [
    "r_r.head()"
   ]
  },
  {
   "cell_type": "code",
   "execution_count": null,
   "metadata": {
    "collapsed": false
   },
   "outputs": [],
   "source": [
    "distribution = r_r.groupby(['authority_id', 'time_distribution', 'distance', 'authority_stars']).size().reset_index()"
   ]
  },
  {
   "cell_type": "code",
   "execution_count": null,
   "metadata": {
    "collapsed": true
   },
   "outputs": [],
   "source": [
    "distribution.to_json('../full_dataset/visit_distribution.json')"
   ]
  },
  {
   "cell_type": "code",
   "execution_count": null,
   "metadata": {
    "collapsed": true
   },
   "outputs": [],
   "source": [
    "distribution = r_r.groupby(['reference_id', 'time_distribution', 'distance', 'authority_stars']).size().reset_index()\n",
    "distribution.to_json('../full_dataset/visit_distribution.json')"
   ]
  }
 ],
 "metadata": {
  "kernelspec": {
   "display_name": "Python 3",
   "language": "python",
   "name": "python3"
  },
  "language_info": {
   "codemirror_mode": {
    "name": "ipython",
    "version": 3
   },
   "file_extension": ".py",
   "mimetype": "text/x-python",
   "name": "python",
   "nbconvert_exporter": "python",
   "pygments_lexer": "ipython3",
   "version": "3.5.1"
  }
 },
 "nbformat": 4,
 "nbformat_minor": 0
}
