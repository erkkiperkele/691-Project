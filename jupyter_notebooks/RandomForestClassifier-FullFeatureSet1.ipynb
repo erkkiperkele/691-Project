{
 "cells": [
  {
   "cell_type": "code",
   "execution_count": 1,
   "metadata": {
    "collapsed": true
   },
   "outputs": [],
   "source": [
    "import json\n",
    "from pandas import DataFrame, Series\n",
    "import pandas as pd\n",
    "import numpy as np\n",
    "from sklearn.ensemble import RandomForestClassifier"
   ]
  },
  {
   "cell_type": "code",
   "execution_count": 2,
   "metadata": {
    "collapsed": false
   },
   "outputs": [],
   "source": [
    "fs = pd.read_json('../full_dataset/featureset1.json')"
   ]
  },
  {
   "cell_type": "code",
   "execution_count": 3,
   "metadata": {
    "collapsed": false
   },
   "outputs": [
    {
     "data": {
      "text/html": [
       "<div>\n",
       "<table border=\"1\" class=\"dataframe\">\n",
       "  <thead>\n",
       "    <tr style=\"text-align: right;\">\n",
       "      <th></th>\n",
       "      <th>categories_avg_rating</th>\n",
       "      <th>categories_biz_count</th>\n",
       "      <th>categories_reviews</th>\n",
       "      <th>cool</th>\n",
       "      <th>elite_user</th>\n",
       "      <th>funny</th>\n",
       "      <th>months_yelping</th>\n",
       "      <th>std_dev_rating</th>\n",
       "      <th>total_reviews</th>\n",
       "      <th>useful</th>\n",
       "      <th>user_id</th>\n",
       "    </tr>\n",
       "  </thead>\n",
       "  <tbody>\n",
       "    <tr>\n",
       "      <th>0</th>\n",
       "      <td>4.333333</td>\n",
       "      <td>3</td>\n",
       "      <td>3</td>\n",
       "      <td>1</td>\n",
       "      <td>not_elite</td>\n",
       "      <td>0</td>\n",
       "      <td>50</td>\n",
       "      <td>0.942809</td>\n",
       "      <td>4</td>\n",
       "      <td>0</td>\n",
       "      <td>D61_mJH0pPh-grBjZyGn1g</td>\n",
       "    </tr>\n",
       "    <tr>\n",
       "      <th>1</th>\n",
       "      <td>3.000000</td>\n",
       "      <td>3</td>\n",
       "      <td>3</td>\n",
       "      <td>0</td>\n",
       "      <td>elite</td>\n",
       "      <td>0</td>\n",
       "      <td>34</td>\n",
       "      <td>0.816497</td>\n",
       "      <td>5</td>\n",
       "      <td>0</td>\n",
       "      <td>ZwYGF9DRAFmz5v3295stFQ</td>\n",
       "    </tr>\n",
       "    <tr>\n",
       "      <th>10</th>\n",
       "      <td>2.000000</td>\n",
       "      <td>1</td>\n",
       "      <td>1</td>\n",
       "      <td>0</td>\n",
       "      <td>not_elite</td>\n",
       "      <td>0</td>\n",
       "      <td>5</td>\n",
       "      <td>0.000000</td>\n",
       "      <td>1</td>\n",
       "      <td>0</td>\n",
       "      <td>I9IKwscAPHSeqM6fThfaFg</td>\n",
       "    </tr>\n",
       "    <tr>\n",
       "      <th>100</th>\n",
       "      <td>4.500000</td>\n",
       "      <td>2</td>\n",
       "      <td>2</td>\n",
       "      <td>0</td>\n",
       "      <td>not_elite</td>\n",
       "      <td>0</td>\n",
       "      <td>60</td>\n",
       "      <td>0.500000</td>\n",
       "      <td>4</td>\n",
       "      <td>2</td>\n",
       "      <td>XczhjnRUfmPO__HcPbRUpQ</td>\n",
       "    </tr>\n",
       "    <tr>\n",
       "      <th>1000</th>\n",
       "      <td>3.000000</td>\n",
       "      <td>5</td>\n",
       "      <td>5</td>\n",
       "      <td>0</td>\n",
       "      <td>not_elite</td>\n",
       "      <td>0</td>\n",
       "      <td>56</td>\n",
       "      <td>1.673320</td>\n",
       "      <td>7</td>\n",
       "      <td>2</td>\n",
       "      <td>j9Dw8N-aadO8Be5vH0v6IQ</td>\n",
       "    </tr>\n",
       "  </tbody>\n",
       "</table>\n",
       "</div>"
      ],
      "text/plain": [
       "      categories_avg_rating  categories_biz_count  categories_reviews  cool  \\\n",
       "0                  4.333333                     3                   3     1   \n",
       "1                  3.000000                     3                   3     0   \n",
       "10                 2.000000                     1                   1     0   \n",
       "100                4.500000                     2                   2     0   \n",
       "1000               3.000000                     5                   5     0   \n",
       "\n",
       "     elite_user  funny  months_yelping  std_dev_rating  total_reviews  useful  \\\n",
       "0     not_elite      0              50        0.942809              4       0   \n",
       "1         elite      0              34        0.816497              5       0   \n",
       "10    not_elite      0               5        0.000000              1       0   \n",
       "100   not_elite      0              60        0.500000              4       2   \n",
       "1000  not_elite      0              56        1.673320              7       2   \n",
       "\n",
       "                     user_id  \n",
       "0     D61_mJH0pPh-grBjZyGn1g  \n",
       "1     ZwYGF9DRAFmz5v3295stFQ  \n",
       "10    I9IKwscAPHSeqM6fThfaFg  \n",
       "100   XczhjnRUfmPO__HcPbRUpQ  \n",
       "1000  j9Dw8N-aadO8Be5vH0v6IQ  "
      ]
     },
     "execution_count": 3,
     "metadata": {},
     "output_type": "execute_result"
    }
   ],
   "source": [
    "fs.head()"
   ]
  },
  {
   "cell_type": "code",
   "execution_count": 4,
   "metadata": {
    "collapsed": true
   },
   "outputs": [],
   "source": [
    "fs['is_train'] = np.random.uniform(0,1,len(fs)) <= .75"
   ]
  },
  {
   "cell_type": "code",
   "execution_count": 5,
   "metadata": {
    "collapsed": true
   },
   "outputs": [],
   "source": [
    "train, test = fs[fs['is_train']==True], fs[fs['is_train']==False]"
   ]
  },
  {
   "cell_type": "code",
   "execution_count": 6,
   "metadata": {
    "collapsed": false
   },
   "outputs": [],
   "source": [
    "features = pd.Index([\n",
    "           'categories_avg_rating',\n",
    "           'categories_biz_count',\n",
    "           'categories_reviews',\n",
    "           'cool',\n",
    "           'funny',\n",
    "           'months_yelping',\n",
    "           'std_dev_rating',\n",
    "           'total_reviews',\n",
    "           'useful'\n",
    "          ])\n"
   ]
  },
  {
   "cell_type": "code",
   "execution_count": 7,
   "metadata": {
    "collapsed": false
   },
   "outputs": [
    {
     "data": {
      "text/plain": [
       "RandomForestClassifier(bootstrap=True, class_weight=None, criterion='gini',\n",
       "            max_depth=None, max_features='auto', max_leaf_nodes=None,\n",
       "            min_samples_leaf=1, min_samples_split=2,\n",
       "            min_weight_fraction_leaf=0.0, n_estimators=10, n_jobs=2,\n",
       "            oob_score=False, random_state=None, verbose=0,\n",
       "            warm_start=False)"
      ]
     },
     "execution_count": 7,
     "metadata": {},
     "output_type": "execute_result"
    }
   ],
   "source": [
    "clf = RandomForestClassifier(n_jobs=2)\n",
    "y, _ = pd.factorize(train['elite_user'])\n",
    "clf.fit(train[features], y)"
   ]
  },
  {
   "cell_type": "code",
   "execution_count": 8,
   "metadata": {
    "collapsed": false
   },
   "outputs": [],
   "source": [
    "target_names = np.array([\"not_elite\", \"elite\"])"
   ]
  },
  {
   "cell_type": "code",
   "execution_count": 9,
   "metadata": {
    "collapsed": false,
    "scrolled": true
   },
   "outputs": [],
   "source": [
    "preds = target_names[clf.predict(test[features])]"
   ]
  },
  {
   "cell_type": "code",
   "execution_count": 10,
   "metadata": {
    "collapsed": false,
    "scrolled": true
   },
   "outputs": [
    {
     "data": {
      "text/html": [
       "<div>\n",
       "<table border=\"1\" class=\"dataframe\">\n",
       "  <thead>\n",
       "    <tr style=\"text-align: right;\">\n",
       "      <th>preds</th>\n",
       "      <th>elite</th>\n",
       "      <th>not_elite</th>\n",
       "    </tr>\n",
       "    <tr>\n",
       "      <th>actual</th>\n",
       "      <th></th>\n",
       "      <th></th>\n",
       "    </tr>\n",
       "  </thead>\n",
       "  <tbody>\n",
       "    <tr>\n",
       "      <th>elite</th>\n",
       "      <td>1259</td>\n",
       "      <td>3113</td>\n",
       "    </tr>\n",
       "    <tr>\n",
       "      <th>not_elite</th>\n",
       "      <td>1018</td>\n",
       "      <td>35968</td>\n",
       "    </tr>\n",
       "  </tbody>\n",
       "</table>\n",
       "</div>"
      ],
      "text/plain": [
       "preds      elite  not_elite\n",
       "actual                     \n",
       "elite       1259       3113\n",
       "not_elite   1018      35968"
      ]
     },
     "execution_count": 10,
     "metadata": {},
     "output_type": "execute_result"
    }
   ],
   "source": [
    "pd.crosstab(test['elite_user'], preds, rownames=['actual'], colnames=['preds'])"
   ]
  },
  {
   "cell_type": "code",
   "execution_count": 11,
   "metadata": {
    "collapsed": true
   },
   "outputs": [],
   "source": [
    "from sklearn import metrics"
   ]
  },
  {
   "cell_type": "code",
   "execution_count": 12,
   "metadata": {
    "collapsed": false
   },
   "outputs": [
    {
     "name": "stdout",
     "output_type": "stream",
     "text": [
      "             precision    recall  f1-score   support\n",
      "\n",
      "      elite       0.55      0.29      0.38      4372\n",
      "  not_elite       0.92      0.97      0.95     36986\n",
      "\n",
      "avg / total       0.88      0.90      0.89     41358\n",
      "\n"
     ]
    }
   ],
   "source": [
    "print metrics.classification_report(test['elite_user'], preds)"
   ]
  }
 ],
 "metadata": {
  "kernelspec": {
   "display_name": "Python 2",
   "language": "python",
   "name": "python2"
  },
  "language_info": {
   "codemirror_mode": {
    "name": "ipython",
    "version": 2
   },
   "file_extension": ".py",
   "mimetype": "text/x-python",
   "name": "python",
   "nbconvert_exporter": "python",
   "pygments_lexer": "ipython2",
   "version": "2.7.11"
  }
 },
 "nbformat": 4,
 "nbformat_minor": 0
}
