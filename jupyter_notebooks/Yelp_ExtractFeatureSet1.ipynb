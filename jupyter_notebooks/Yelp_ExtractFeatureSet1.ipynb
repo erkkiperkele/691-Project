{
 "cells": [
  {
   "cell_type": "code",
   "execution_count": 1,
   "metadata": {
    "collapsed": true
   },
   "outputs": [],
   "source": [
    "BIZPATH='../montreal_subset/montreal_business.json'\n",
    "USERPATH='../montreal_subset/montreal_users_who_reviewed.json'\n",
    "REVPATH='../montreal_subset/montreal_reviews.json'\n",
    "PARTIAL_DIM_PATH = '../montreal_subset/featureset1_but_votes_Restaurants.json'"
   ]
  },
  {
   "cell_type": "code",
   "execution_count": 2,
   "metadata": {
    "collapsed": true
   },
   "outputs": [],
   "source": [
    "import json"
   ]
  },
  {
   "cell_type": "code",
   "execution_count": 3,
   "metadata": {
    "collapsed": true
   },
   "outputs": [],
   "source": [
    "bizrecords = [json.loads(line) for line in open(BIZPATH)]\n",
    "userrecords = [json.loads(line) for line in open(USERPATH)]\n",
    "revrecords = [json.loads(line) for line in open(REVPATH)]\n",
    "pdimrecords = [json.loads(line) for line in open(PARTIAL_DIM_PATH)]"
   ]
  },
  {
   "cell_type": "code",
   "execution_count": 4,
   "metadata": {
    "collapsed": true
   },
   "outputs": [],
   "source": [
    "from pandas import DataFrame, Series"
   ]
  },
  {
   "cell_type": "code",
   "execution_count": 5,
   "metadata": {
    "collapsed": true
   },
   "outputs": [],
   "source": [
    "import pandas as pd; import numpy as np"
   ]
  },
  {
   "cell_type": "code",
   "execution_count": 6,
   "metadata": {
    "collapsed": false
   },
   "outputs": [],
   "source": [
    "bizframe = DataFrame(bizrecords)\n",
    "userframe = DataFrame(userrecords)\n",
    "revframe = DataFrame(revrecords)\n",
    "pdimframe = pd.read_json(PARTIAL_DIM_PATH)"
   ]
  },
  {
   "cell_type": "code",
   "execution_count": 7,
   "metadata": {
    "collapsed": true
   },
   "outputs": [],
   "source": [
    "bizframe_sub = DataFrame(bizrecords, columns=['business_id', 'name', 'categories', 'review_count', 'stars'])"
   ]
  },
  {
   "cell_type": "code",
   "execution_count": 8,
   "metadata": {
    "collapsed": true
   },
   "outputs": [],
   "source": [
    "rev_user_frame = pd.merge(revframe, userframe, on=\"user_id\")\n",
    "rev_biz_frame = pd.merge(revframe, bizframe, on=\"business_id\")"
   ]
  },
  {
   "cell_type": "code",
   "execution_count": 9,
   "metadata": {
    "collapsed": false
   },
   "outputs": [],
   "source": [
    "#Months yelping\n",
    "import datetime\n",
    "now = datetime.datetime.now()\n",
    "userframe['months_yelping'] = userframe['yelping_since'].map(lambda x: datetime.datetime.strptime(x, '%Y-%m')).map(lambda x: (now.year - x.year) * 12 + now.month - x.month)"
   ]
  },
  {
   "cell_type": "code",
   "execution_count": 10,
   "metadata": {
    "collapsed": false
   },
   "outputs": [
    {
     "data": {
      "text/html": [
       "<div>\n",
       "<table border=\"1\" class=\"dataframe\">\n",
       "  <thead>\n",
       "    <tr style=\"text-align: right;\">\n",
       "      <th></th>\n",
       "      <th>average_stars</th>\n",
       "      <th>compliments</th>\n",
       "      <th>elite</th>\n",
       "      <th>fans</th>\n",
       "      <th>friends</th>\n",
       "      <th>name</th>\n",
       "      <th>review_count</th>\n",
       "      <th>type</th>\n",
       "      <th>user_id</th>\n",
       "      <th>votes</th>\n",
       "      <th>yelping_since</th>\n",
       "      <th>months_yelping</th>\n",
       "    </tr>\n",
       "  </thead>\n",
       "  <tbody>\n",
       "    <tr>\n",
       "      <th>0</th>\n",
       "      <td>3.52</td>\n",
       "      <td>{u'profile': 5, u'funny': 37, u'cute': 8, u'pl...</td>\n",
       "      <td>[2006, 2007, 2008, 2009, 2010, 2011, 2012, 201...</td>\n",
       "      <td>102</td>\n",
       "      <td>[rpOyqD_893cqmDAtJLbdog, CYJnkecyF1DOXVFvBeFmt...</td>\n",
       "      <td>Matthew</td>\n",
       "      <td>1820</td>\n",
       "      <td>user</td>\n",
       "      <td>e-t3dRzH9bmsanmhYgSiVQ</td>\n",
       "      <td>{u'funny': 2020, u'useful': 6438, u'cool': 2835}</td>\n",
       "      <td>2006-05</td>\n",
       "      <td>118</td>\n",
       "    </tr>\n",
       "    <tr>\n",
       "      <th>1</th>\n",
       "      <td>3.85</td>\n",
       "      <td>{u'profile': 8, u'funny': 28, u'cute': 8, u'pl...</td>\n",
       "      <td>[2013, 2014, 2015]</td>\n",
       "      <td>117</td>\n",
       "      <td>[rpOyqD_893cqmDAtJLbdog, 8J4IIYcqBlFch8T90N923...</td>\n",
       "      <td>James</td>\n",
       "      <td>1444</td>\n",
       "      <td>user</td>\n",
       "      <td>uF1-c9oji5qiHntYsmfKGg</td>\n",
       "      <td>{u'funny': 4040, u'useful': 7417, u'cool': 5710}</td>\n",
       "      <td>2011-11</td>\n",
       "      <td>52</td>\n",
       "    </tr>\n",
       "    <tr>\n",
       "      <th>2</th>\n",
       "      <td>3.47</td>\n",
       "      <td>{u'cute': 1, u'cool': 1, u'funny': 1, u'photos...</td>\n",
       "      <td>[]</td>\n",
       "      <td>1</td>\n",
       "      <td>[snd45oedwXxF9tsHUX_6dg]</td>\n",
       "      <td>Meg</td>\n",
       "      <td>44</td>\n",
       "      <td>user</td>\n",
       "      <td>NUNVFFv_VEyVn3G7kg1V8g</td>\n",
       "      <td>{u'funny': 21, u'useful': 83, u'cool': 14}</td>\n",
       "      <td>2009-09</td>\n",
       "      <td>78</td>\n",
       "    </tr>\n",
       "    <tr>\n",
       "      <th>3</th>\n",
       "      <td>3.45</td>\n",
       "      <td>{u'profile': 2, u'cute': 4, u'funny': 37, u'pl...</td>\n",
       "      <td>[2009, 2010, 2011, 2012]</td>\n",
       "      <td>22</td>\n",
       "      <td>[uguXfIEpI65jSCH5MgUDgA, Rir-YRPPClKXDFQbc3BsV...</td>\n",
       "      <td>Jeff</td>\n",
       "      <td>394</td>\n",
       "      <td>user</td>\n",
       "      <td>0KZsDw5pGKrYEWGXg9oUsg</td>\n",
       "      <td>{u'funny': 956, u'useful': 1524, u'cool': 970}</td>\n",
       "      <td>2008-05</td>\n",
       "      <td>94</td>\n",
       "    </tr>\n",
       "    <tr>\n",
       "      <th>4</th>\n",
       "      <td>3.39</td>\n",
       "      <td>{u'profile': 1, u'funny': 4, u'cute': 1, u'pla...</td>\n",
       "      <td>[2006, 2007, 2009, 2010, 2011]</td>\n",
       "      <td>15</td>\n",
       "      <td>[GJYJX4SujVj3BR8v2F9PDQ, WGf64PeXIZtdoqkBj0-_z...</td>\n",
       "      <td>Susan</td>\n",
       "      <td>482</td>\n",
       "      <td>user</td>\n",
       "      <td>gMOlCdsMxODvZ9G7yMZmTA</td>\n",
       "      <td>{u'funny': 164, u'useful': 530, u'cool': 206}</td>\n",
       "      <td>2006-02</td>\n",
       "      <td>121</td>\n",
       "    </tr>\n",
       "  </tbody>\n",
       "</table>\n",
       "</div>"
      ],
      "text/plain": [
       "   average_stars                                        compliments  \\\n",
       "0           3.52  {u'profile': 5, u'funny': 37, u'cute': 8, u'pl...   \n",
       "1           3.85  {u'profile': 8, u'funny': 28, u'cute': 8, u'pl...   \n",
       "2           3.47  {u'cute': 1, u'cool': 1, u'funny': 1, u'photos...   \n",
       "3           3.45  {u'profile': 2, u'cute': 4, u'funny': 37, u'pl...   \n",
       "4           3.39  {u'profile': 1, u'funny': 4, u'cute': 1, u'pla...   \n",
       "\n",
       "                                               elite  fans  \\\n",
       "0  [2006, 2007, 2008, 2009, 2010, 2011, 2012, 201...   102   \n",
       "1                                 [2013, 2014, 2015]   117   \n",
       "2                                                 []     1   \n",
       "3                           [2009, 2010, 2011, 2012]    22   \n",
       "4                     [2006, 2007, 2009, 2010, 2011]    15   \n",
       "\n",
       "                                             friends     name  review_count  \\\n",
       "0  [rpOyqD_893cqmDAtJLbdog, CYJnkecyF1DOXVFvBeFmt...  Matthew          1820   \n",
       "1  [rpOyqD_893cqmDAtJLbdog, 8J4IIYcqBlFch8T90N923...    James          1444   \n",
       "2                           [snd45oedwXxF9tsHUX_6dg]      Meg            44   \n",
       "3  [uguXfIEpI65jSCH5MgUDgA, Rir-YRPPClKXDFQbc3BsV...     Jeff           394   \n",
       "4  [GJYJX4SujVj3BR8v2F9PDQ, WGf64PeXIZtdoqkBj0-_z...    Susan           482   \n",
       "\n",
       "   type                 user_id  \\\n",
       "0  user  e-t3dRzH9bmsanmhYgSiVQ   \n",
       "1  user  uF1-c9oji5qiHntYsmfKGg   \n",
       "2  user  NUNVFFv_VEyVn3G7kg1V8g   \n",
       "3  user  0KZsDw5pGKrYEWGXg9oUsg   \n",
       "4  user  gMOlCdsMxODvZ9G7yMZmTA   \n",
       "\n",
       "                                              votes yelping_since  \\\n",
       "0  {u'funny': 2020, u'useful': 6438, u'cool': 2835}       2006-05   \n",
       "1  {u'funny': 4040, u'useful': 7417, u'cool': 5710}       2011-11   \n",
       "2        {u'funny': 21, u'useful': 83, u'cool': 14}       2009-09   \n",
       "3    {u'funny': 956, u'useful': 1524, u'cool': 970}       2008-05   \n",
       "4     {u'funny': 164, u'useful': 530, u'cool': 206}       2006-02   \n",
       "\n",
       "   months_yelping  \n",
       "0             118  \n",
       "1              52  \n",
       "2              78  \n",
       "3              94  \n",
       "4             121  "
      ]
     },
     "execution_count": 10,
     "metadata": {},
     "output_type": "execute_result"
    }
   ],
   "source": [
    "userframe.head()"
   ]
  },
  {
   "cell_type": "code",
   "execution_count": 11,
   "metadata": {
    "collapsed": false
   },
   "outputs": [],
   "source": [
    "#Label elite users\n",
    "userframe[\"elite_user\"] = userframe['elite'].map(lambda x: 'elite' if len(x) > 0 else 'not_elite')\n"
   ]
  },
  {
   "cell_type": "code",
   "execution_count": 12,
   "metadata": {
    "collapsed": false
   },
   "outputs": [],
   "source": [
    "#Adapted from: http://stackoverflow.com/questions/21160134/flatten-a-column-with-value-of-type-list-while-duplicating-the-other-columns-va\n",
    "#TODO: Find more idiomatic definition for rev_category_frame, preferably by removing flattened_categories.\n",
    "flattened_categories = DataFrame([[i, category]\n",
    "                                     for i, categories in rev_biz_frame['categories'].apply(list).iteritems()\n",
    "                                         for category in categories],\n",
    "                                columns=['index', 'category'])\n",
    "flattened_categories.set_index('index')\n",
    "rev_category_frame = rev_biz_frame.merge(flattened_categories, left_index = True, right_index = True)"
   ]
  },
  {
   "cell_type": "code",
   "execution_count": 13,
   "metadata": {
    "collapsed": false
   },
   "outputs": [],
   "source": [
    "#Number businesses / category\n",
    "#TODO: Add name to the size column; do some sanity checking on the data.\n",
    "user_biz_revved_per_category_frame = rev_category_frame.groupby(['user_id', 'business_id', 'category']).size()"
   ]
  },
  {
   "cell_type": "code",
   "execution_count": 14,
   "metadata": {
    "collapsed": false
   },
   "outputs": [],
   "source": [
    "rev_restaurants_frame = DataFrame(rev_category_frame.loc[rev_category_frame['category'] == 'Restaurants'])\n",
    "rev_restaurants_frame['funny'] = rev_restaurants_frame['votes'].map(lambda x: x['funny'])\n",
    "rev_restaurants_frame['useful'] = rev_restaurants_frame['votes'].map(lambda x: x['useful'])\n",
    "rev_restaurants_frame['cool'] = rev_restaurants_frame['votes'].map(lambda x: x['cool'])"
   ]
  },
  {
   "cell_type": "code",
   "execution_count": 15,
   "metadata": {
    "collapsed": false
   },
   "outputs": [],
   "source": [
    "rev_dim_peruser_frame = rev_restaurants_frame.groupby('user_id').aggregate(sum).reset_index()[['user_id', 'funny', 'useful', 'cool']]"
   ]
  },
  {
   "cell_type": "code",
   "execution_count": 16,
   "metadata": {
    "collapsed": false
   },
   "outputs": [],
   "source": [
    "user_dim_frame = pd.merge(userframe[['user_id', 'months_yelping', 'elite_user']], rev_dim_peruser_frame, on='user_id')\n",
    "dimframe = pd.merge(pdimframe, user_dim_frame, on='user_id')"
   ]
  },
  {
   "cell_type": "code",
   "execution_count": 17,
   "metadata": {
    "collapsed": false
   },
   "outputs": [],
   "source": [
    "#Move elite_user column to end\n",
    "elite_column = dimframe.pop('elite_user')\n",
    "dimframe.insert(10,'elite_user', elite_column)"
   ]
  },
  {
   "cell_type": "code",
   "execution_count": 18,
   "metadata": {
    "collapsed": true
   },
   "outputs": [],
   "source": [
    "dimframe.to_json('../montreal_subset/featureset1.json')"
   ]
  },
  {
   "cell_type": "code",
   "execution_count": 19,
   "metadata": {
    "collapsed": false
   },
   "outputs": [
    {
     "data": {
      "text/html": [
       "<div>\n",
       "<table border=\"1\" class=\"dataframe\">\n",
       "  <thead>\n",
       "    <tr style=\"text-align: right;\">\n",
       "      <th></th>\n",
       "      <th>categories_avg_rating</th>\n",
       "      <th>categories_biz_count</th>\n",
       "      <th>categories_reviews</th>\n",
       "      <th>std_dev_rating</th>\n",
       "      <th>total_reviews</th>\n",
       "      <th>user_id</th>\n",
       "      <th>months_yelping</th>\n",
       "      <th>funny</th>\n",
       "      <th>useful</th>\n",
       "      <th>cool</th>\n",
       "      <th>elite_user</th>\n",
       "    </tr>\n",
       "  </thead>\n",
       "  <tbody>\n",
       "    <tr>\n",
       "      <th>0</th>\n",
       "      <td>4</td>\n",
       "      <td>2</td>\n",
       "      <td>2</td>\n",
       "      <td>0</td>\n",
       "      <td>6</td>\n",
       "      <td>Vi6yC7XiZDADYG73Z0MJAQ</td>\n",
       "      <td>28</td>\n",
       "      <td>0</td>\n",
       "      <td>1</td>\n",
       "      <td>0</td>\n",
       "      <td>elite</td>\n",
       "    </tr>\n",
       "    <tr>\n",
       "      <th>1</th>\n",
       "      <td>4</td>\n",
       "      <td>2</td>\n",
       "      <td>2</td>\n",
       "      <td>0</td>\n",
       "      <td>6</td>\n",
       "      <td>Vi6yC7XiZDADYG73Z0MJAQ</td>\n",
       "      <td>28</td>\n",
       "      <td>0</td>\n",
       "      <td>1</td>\n",
       "      <td>0</td>\n",
       "      <td>elite</td>\n",
       "    </tr>\n",
       "    <tr>\n",
       "      <th>2</th>\n",
       "      <td>4</td>\n",
       "      <td>2</td>\n",
       "      <td>2</td>\n",
       "      <td>0</td>\n",
       "      <td>6</td>\n",
       "      <td>Vi6yC7XiZDADYG73Z0MJAQ</td>\n",
       "      <td>28</td>\n",
       "      <td>0</td>\n",
       "      <td>1</td>\n",
       "      <td>0</td>\n",
       "      <td>elite</td>\n",
       "    </tr>\n",
       "    <tr>\n",
       "      <th>3</th>\n",
       "      <td>4</td>\n",
       "      <td>2</td>\n",
       "      <td>2</td>\n",
       "      <td>0</td>\n",
       "      <td>6</td>\n",
       "      <td>Vi6yC7XiZDADYG73Z0MJAQ</td>\n",
       "      <td>28</td>\n",
       "      <td>0</td>\n",
       "      <td>1</td>\n",
       "      <td>0</td>\n",
       "      <td>elite</td>\n",
       "    </tr>\n",
       "    <tr>\n",
       "      <th>4</th>\n",
       "      <td>4</td>\n",
       "      <td>2</td>\n",
       "      <td>2</td>\n",
       "      <td>0</td>\n",
       "      <td>6</td>\n",
       "      <td>Vi6yC7XiZDADYG73Z0MJAQ</td>\n",
       "      <td>28</td>\n",
       "      <td>0</td>\n",
       "      <td>1</td>\n",
       "      <td>0</td>\n",
       "      <td>elite</td>\n",
       "    </tr>\n",
       "  </tbody>\n",
       "</table>\n",
       "</div>"
      ],
      "text/plain": [
       "   categories_avg_rating  categories_biz_count  categories_reviews  \\\n",
       "0                      4                     2                   2   \n",
       "1                      4                     2                   2   \n",
       "2                      4                     2                   2   \n",
       "3                      4                     2                   2   \n",
       "4                      4                     2                   2   \n",
       "\n",
       "   std_dev_rating  total_reviews                 user_id  months_yelping  \\\n",
       "0               0              6  Vi6yC7XiZDADYG73Z0MJAQ              28   \n",
       "1               0              6  Vi6yC7XiZDADYG73Z0MJAQ              28   \n",
       "2               0              6  Vi6yC7XiZDADYG73Z0MJAQ              28   \n",
       "3               0              6  Vi6yC7XiZDADYG73Z0MJAQ              28   \n",
       "4               0              6  Vi6yC7XiZDADYG73Z0MJAQ              28   \n",
       "\n",
       "   funny  useful  cool elite_user  \n",
       "0      0       1     0      elite  \n",
       "1      0       1     0      elite  \n",
       "2      0       1     0      elite  \n",
       "3      0       1     0      elite  \n",
       "4      0       1     0      elite  "
      ]
     },
     "execution_count": 19,
     "metadata": {},
     "output_type": "execute_result"
    }
   ],
   "source": [
    "dimframe.head()"
   ]
  }
 ],
 "metadata": {
  "kernelspec": {
   "display_name": "Python 2",
   "language": "python",
   "name": "python2"
  },
  "language_info": {
   "codemirror_mode": {
    "name": "ipython",
    "version": 2
   },
   "file_extension": ".py",
   "mimetype": "text/x-python",
   "name": "python",
   "nbconvert_exporter": "python",
   "pygments_lexer": "ipython2",
   "version": "2.7.11"
  }
 },
 "nbformat": 4,
 "nbformat_minor": 0
}
