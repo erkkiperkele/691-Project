{
 "cells": [
  {
   "cell_type": "code",
   "execution_count": 64,
   "metadata": {
    "collapsed": true
   },
   "outputs": [],
   "source": [
    "BIZPATH='../montreal_subset/montreal_business.json'\n",
    "USERPATH='../montreal_subset/montreal_users_who_reviewed.json'\n",
    "REVPATH='../montreal_subset/montreal_reviews.json'\n",
    "PARTIAL_DIM_PATH = '../montreal_subset/featureset1_but_votes_Restaurants.json'"
   ]
  },
  {
   "cell_type": "code",
   "execution_count": 65,
   "metadata": {
    "collapsed": true
   },
   "outputs": [],
   "source": [
    "import json"
   ]
  },
  {
   "cell_type": "code",
   "execution_count": 66,
   "metadata": {
    "collapsed": true
   },
   "outputs": [],
   "source": [
    "bizrecords = [json.loads(line) for line in open(BIZPATH)]\n",
    "userrecords = [json.loads(line) for line in open(USERPATH)]\n",
    "revrecords = [json.loads(line) for line in open(REVPATH)]\n",
    "pdimrecords = [json.loads(line) for line in open(PARTIAL_DIM_PATH)]"
   ]
  },
  {
   "cell_type": "code",
   "execution_count": 67,
   "metadata": {
    "collapsed": true
   },
   "outputs": [],
   "source": [
    "from pandas import DataFrame, Series"
   ]
  },
  {
   "cell_type": "code",
   "execution_count": 68,
   "metadata": {
    "collapsed": true
   },
   "outputs": [],
   "source": [
    "import pandas as pd; import numpy as np"
   ]
  },
  {
   "cell_type": "code",
   "execution_count": 69,
   "metadata": {
    "collapsed": false
   },
   "outputs": [],
   "source": [
    "bizframe = DataFrame(bizrecords)\n",
    "userframe = DataFrame(userrecords)\n",
    "revframe = DataFrame(revrecords)\n",
    "pdimframe = pd.read_json(PARTIAL_DIM_PATH)"
   ]
  },
  {
   "cell_type": "code",
   "execution_count": 70,
   "metadata": {
    "collapsed": false
   },
   "outputs": [
    {
     "data": {
      "text/html": [
       "<div>\n",
       "<table border=\"1\" class=\"dataframe\">\n",
       "  <thead>\n",
       "    <tr style=\"text-align: right;\">\n",
       "      <th></th>\n",
       "      <th>business_id</th>\n",
       "      <th>date</th>\n",
       "      <th>review_id</th>\n",
       "      <th>stars</th>\n",
       "      <th>text</th>\n",
       "      <th>type</th>\n",
       "      <th>user_id</th>\n",
       "      <th>votes</th>\n",
       "    </tr>\n",
       "  </thead>\n",
       "  <tbody>\n",
       "    <tr>\n",
       "      <th>0</th>\n",
       "      <td>5LBVJ2_UslInSx5n7D__xQ</td>\n",
       "      <td>2008-08-07</td>\n",
       "      <td>OYuPL99eMFMaDY4IZV18Rg</td>\n",
       "      <td>5</td>\n",
       "      <td>Priape is the hottest most popular gay adult b...</td>\n",
       "      <td>review</td>\n",
       "      <td>e-t3dRzH9bmsanmhYgSiVQ</td>\n",
       "      <td>{u'funny': 2, u'useful': 4, u'cool': 3}</td>\n",
       "    </tr>\n",
       "    <tr>\n",
       "      <th>1</th>\n",
       "      <td>5LBVJ2_UslInSx5n7D__xQ</td>\n",
       "      <td>2015-09-13</td>\n",
       "      <td>rUczg4mkamTnKS6eBTsyog</td>\n",
       "      <td>4</td>\n",
       "      <td>It's a large store with a good selection of......</td>\n",
       "      <td>review</td>\n",
       "      <td>uF1-c9oji5qiHntYsmfKGg</td>\n",
       "      <td>{u'funny': 2, u'useful': 7, u'cool': 6}</td>\n",
       "    </tr>\n",
       "    <tr>\n",
       "      <th>2</th>\n",
       "      <td>Dl0aiLB55cpQTHKmDISZag</td>\n",
       "      <td>2010-04-21</td>\n",
       "      <td>NhwfGKDaFeuxOTNTkFpp7w</td>\n",
       "      <td>3</td>\n",
       "      <td>Stayed here for 2 nights with 2 girlfriends. G...</td>\n",
       "      <td>review</td>\n",
       "      <td>NUNVFFv_VEyVn3G7kg1V8g</td>\n",
       "      <td>{u'funny': 0, u'useful': 0, u'cool': 0}</td>\n",
       "    </tr>\n",
       "    <tr>\n",
       "      <th>3</th>\n",
       "      <td>Dl0aiLB55cpQTHKmDISZag</td>\n",
       "      <td>2010-06-07</td>\n",
       "      <td>PjFJYb_tsU7uR1xyCnw1sQ</td>\n",
       "      <td>3</td>\n",
       "      <td>This is one of 3 Holiday Inns in the general M...</td>\n",
       "      <td>review</td>\n",
       "      <td>0KZsDw5pGKrYEWGXg9oUsg</td>\n",
       "      <td>{u'funny': 2, u'useful': 2, u'cool': 2}</td>\n",
       "    </tr>\n",
       "    <tr>\n",
       "      <th>4</th>\n",
       "      <td>Dl0aiLB55cpQTHKmDISZag</td>\n",
       "      <td>2010-09-07</td>\n",
       "      <td>2mc7S6djY9xcfdlYYZpWSQ</td>\n",
       "      <td>3</td>\n",
       "      <td>I enjoyed staying at this location because it ...</td>\n",
       "      <td>review</td>\n",
       "      <td>gMOlCdsMxODvZ9G7yMZmTA</td>\n",
       "      <td>{u'funny': 0, u'useful': 0, u'cool': 0}</td>\n",
       "    </tr>\n",
       "  </tbody>\n",
       "</table>\n",
       "</div>"
      ],
      "text/plain": [
       "              business_id        date               review_id  stars  \\\n",
       "0  5LBVJ2_UslInSx5n7D__xQ  2008-08-07  OYuPL99eMFMaDY4IZV18Rg      5   \n",
       "1  5LBVJ2_UslInSx5n7D__xQ  2015-09-13  rUczg4mkamTnKS6eBTsyog      4   \n",
       "2  Dl0aiLB55cpQTHKmDISZag  2010-04-21  NhwfGKDaFeuxOTNTkFpp7w      3   \n",
       "3  Dl0aiLB55cpQTHKmDISZag  2010-06-07  PjFJYb_tsU7uR1xyCnw1sQ      3   \n",
       "4  Dl0aiLB55cpQTHKmDISZag  2010-09-07  2mc7S6djY9xcfdlYYZpWSQ      3   \n",
       "\n",
       "                                                text    type  \\\n",
       "0  Priape is the hottest most popular gay adult b...  review   \n",
       "1  It's a large store with a good selection of......  review   \n",
       "2  Stayed here for 2 nights with 2 girlfriends. G...  review   \n",
       "3  This is one of 3 Holiday Inns in the general M...  review   \n",
       "4  I enjoyed staying at this location because it ...  review   \n",
       "\n",
       "                  user_id                                    votes  \n",
       "0  e-t3dRzH9bmsanmhYgSiVQ  {u'funny': 2, u'useful': 4, u'cool': 3}  \n",
       "1  uF1-c9oji5qiHntYsmfKGg  {u'funny': 2, u'useful': 7, u'cool': 6}  \n",
       "2  NUNVFFv_VEyVn3G7kg1V8g  {u'funny': 0, u'useful': 0, u'cool': 0}  \n",
       "3  0KZsDw5pGKrYEWGXg9oUsg  {u'funny': 2, u'useful': 2, u'cool': 2}  \n",
       "4  gMOlCdsMxODvZ9G7yMZmTA  {u'funny': 0, u'useful': 0, u'cool': 0}  "
      ]
     },
     "execution_count": 70,
     "metadata": {},
     "output_type": "execute_result"
    }
   ],
   "source": [
    "revframe.head()"
   ]
  },
  {
   "cell_type": "code",
   "execution_count": 71,
   "metadata": {
    "collapsed": true
   },
   "outputs": [],
   "source": [
    "bizframe_sub = DataFrame(bizrecords, columns=['business_id', 'name', 'categories', 'review_count', 'stars'])"
   ]
  },
  {
   "cell_type": "code",
   "execution_count": 72,
   "metadata": {
    "collapsed": false
   },
   "outputs": [
    {
     "data": {
      "text/html": [
       "<div>\n",
       "<table border=\"1\" class=\"dataframe\">\n",
       "  <thead>\n",
       "    <tr style=\"text-align: right;\">\n",
       "      <th></th>\n",
       "      <th>business_id</th>\n",
       "      <th>name</th>\n",
       "      <th>categories</th>\n",
       "      <th>review_count</th>\n",
       "      <th>stars</th>\n",
       "    </tr>\n",
       "  </thead>\n",
       "  <tbody>\n",
       "    <tr>\n",
       "      <th>0</th>\n",
       "      <td>5LBVJ2_UslInSx5n7D__xQ</td>\n",
       "      <td>Priape</td>\n",
       "      <td>[Shopping, Adult]</td>\n",
       "      <td>4</td>\n",
       "      <td>4.5</td>\n",
       "    </tr>\n",
       "    <tr>\n",
       "      <th>1</th>\n",
       "      <td>Dl0aiLB55cpQTHKmDISZag</td>\n",
       "      <td>Holiday Inn Montreal Centreville Downtown</td>\n",
       "      <td>[Hotels &amp; Travel, Event Planning &amp; Services, V...</td>\n",
       "      <td>27</td>\n",
       "      <td>3.0</td>\n",
       "    </tr>\n",
       "    <tr>\n",
       "      <th>2</th>\n",
       "      <td>7uWSZpD_pJzLh4ciYT8dgg</td>\n",
       "      <td>Gourmet D'asie</td>\n",
       "      <td>[Vietnamese, Thai, Asian Fusion, Restaurants]</td>\n",
       "      <td>3</td>\n",
       "      <td>3.5</td>\n",
       "    </tr>\n",
       "    <tr>\n",
       "      <th>3</th>\n",
       "      <td>uQOBg3NRyrC767zEr1LIgQ</td>\n",
       "      <td>InterContinental Montreal</td>\n",
       "      <td>[Hotels &amp; Travel, Event Planning &amp; Services, V...</td>\n",
       "      <td>57</td>\n",
       "      <td>4.0</td>\n",
       "    </tr>\n",
       "    <tr>\n",
       "      <th>4</th>\n",
       "      <td>qM2I6EnvzeVDN93StYkIYA</td>\n",
       "      <td>Stash Café</td>\n",
       "      <td>[Polish, Restaurants]</td>\n",
       "      <td>125</td>\n",
       "      <td>4.0</td>\n",
       "    </tr>\n",
       "  </tbody>\n",
       "</table>\n",
       "</div>"
      ],
      "text/plain": [
       "              business_id                                       name  \\\n",
       "0  5LBVJ2_UslInSx5n7D__xQ                                     Priape   \n",
       "1  Dl0aiLB55cpQTHKmDISZag  Holiday Inn Montreal Centreville Downtown   \n",
       "2  7uWSZpD_pJzLh4ciYT8dgg                             Gourmet D'asie   \n",
       "3  uQOBg3NRyrC767zEr1LIgQ                  InterContinental Montreal   \n",
       "4  qM2I6EnvzeVDN93StYkIYA                                 Stash Café   \n",
       "\n",
       "                                          categories  review_count  stars  \n",
       "0                                  [Shopping, Adult]             4    4.5  \n",
       "1  [Hotels & Travel, Event Planning & Services, V...            27    3.0  \n",
       "2      [Vietnamese, Thai, Asian Fusion, Restaurants]             3    3.5  \n",
       "3  [Hotels & Travel, Event Planning & Services, V...            57    4.0  \n",
       "4                              [Polish, Restaurants]           125    4.0  "
      ]
     },
     "execution_count": 72,
     "metadata": {},
     "output_type": "execute_result"
    }
   ],
   "source": [
    "bizframe_sub.head()"
   ]
  },
  {
   "cell_type": "code",
   "execution_count": 73,
   "metadata": {
    "collapsed": false
   },
   "outputs": [],
   "source": [
    "series = bizframe_sub['categories'].map(lambda x: True if  ('Restaurants' in x  or 'Food' in x ) and 'Chinese' in x else False )"
   ]
  },
  {
   "cell_type": "code",
   "execution_count": 74,
   "metadata": {
    "collapsed": false
   },
   "outputs": [
    {
     "data": {
      "text/html": [
       "<div>\n",
       "<table border=\"1\" class=\"dataframe\">\n",
       "  <thead>\n",
       "    <tr style=\"text-align: right;\">\n",
       "      <th></th>\n",
       "      <th>business_id</th>\n",
       "      <th>name</th>\n",
       "      <th>categories</th>\n",
       "      <th>review_count</th>\n",
       "      <th>stars</th>\n",
       "    </tr>\n",
       "  </thead>\n",
       "  <tbody>\n",
       "    <tr>\n",
       "      <th>14</th>\n",
       "      <td>bGF2RANM6J8SGjIFAhZwXw</td>\n",
       "      <td>Mon Shing</td>\n",
       "      <td>[Chinese, Restaurants]</td>\n",
       "      <td>17</td>\n",
       "      <td>3.0</td>\n",
       "    </tr>\n",
       "    <tr>\n",
       "      <th>21</th>\n",
       "      <td>NPtqroQKbWg2oKl0kpn3kw</td>\n",
       "      <td>Restaurant Szechuan</td>\n",
       "      <td>[Chinese, Restaurants]</td>\n",
       "      <td>5</td>\n",
       "      <td>4.0</td>\n",
       "    </tr>\n",
       "    <tr>\n",
       "      <th>31</th>\n",
       "      <td>orSTWbtbOqL1xsFIHclpcw</td>\n",
       "      <td>Wok Cafe</td>\n",
       "      <td>[Chinese, Restaurants]</td>\n",
       "      <td>15</td>\n",
       "      <td>2.0</td>\n",
       "    </tr>\n",
       "    <tr>\n",
       "      <th>40</th>\n",
       "      <td>-AbU9Uw3Da3VsQJW2pPsDg</td>\n",
       "      <td>Bombay Palace Restaurant</td>\n",
       "      <td>[Chinese, Restaurants]</td>\n",
       "      <td>3</td>\n",
       "      <td>2.0</td>\n",
       "    </tr>\n",
       "    <tr>\n",
       "      <th>69</th>\n",
       "      <td>9HpTTSPwuh_lp2dCLiGswg</td>\n",
       "      <td>Little Sheep Mongolian Hot Pot</td>\n",
       "      <td>[Hot Pot, Mongolian, Chinese, Restaurants]</td>\n",
       "      <td>66</td>\n",
       "      <td>3.5</td>\n",
       "    </tr>\n",
       "  </tbody>\n",
       "</table>\n",
       "</div>"
      ],
      "text/plain": [
       "               business_id                            name  \\\n",
       "14  bGF2RANM6J8SGjIFAhZwXw                       Mon Shing   \n",
       "21  NPtqroQKbWg2oKl0kpn3kw             Restaurant Szechuan   \n",
       "31  orSTWbtbOqL1xsFIHclpcw                        Wok Cafe   \n",
       "40  -AbU9Uw3Da3VsQJW2pPsDg        Bombay Palace Restaurant   \n",
       "69  9HpTTSPwuh_lp2dCLiGswg  Little Sheep Mongolian Hot Pot   \n",
       "\n",
       "                                    categories  review_count  stars  \n",
       "14                      [Chinese, Restaurants]            17    3.0  \n",
       "21                      [Chinese, Restaurants]             5    4.0  \n",
       "31                      [Chinese, Restaurants]            15    2.0  \n",
       "40                      [Chinese, Restaurants]             3    2.0  \n",
       "69  [Hot Pot, Mongolian, Chinese, Restaurants]            66    3.5  "
      ]
     },
     "execution_count": 74,
     "metadata": {},
     "output_type": "execute_result"
    }
   ],
   "source": [
    "temp = DataFrame(bizframe_sub.loc[series])\n",
    "temp.head()"
   ]
  },
  {
   "cell_type": "code",
   "execution_count": 75,
   "metadata": {
    "collapsed": true
   },
   "outputs": [],
   "source": [
    "rev_user_frame = pd.merge(revframe, userframe, on=\"user_id\")\n",
    "rev_biz_frame = pd.merge(revframe, temp, on=\"business_id\")"
   ]
  },
  {
   "cell_type": "code",
   "execution_count": 76,
   "metadata": {
    "collapsed": false
   },
   "outputs": [],
   "source": [
    "#Months yelping\n",
    "import datetime\n",
    "now = datetime.datetime.now()\n",
    "userframe['months_yelping'] = userframe['yelping_since'].map(lambda x: datetime.datetime.strptime(x, '%Y-%m')).map(lambda x: (now.year - x.year) * 12 + now.month - x.month)"
   ]
  },
  {
   "cell_type": "code",
   "execution_count": 77,
   "metadata": {
    "collapsed": false
   },
   "outputs": [
    {
     "data": {
      "text/html": [
       "<div>\n",
       "<table border=\"1\" class=\"dataframe\">\n",
       "  <thead>\n",
       "    <tr style=\"text-align: right;\">\n",
       "      <th></th>\n",
       "      <th>average_stars</th>\n",
       "      <th>compliments</th>\n",
       "      <th>elite</th>\n",
       "      <th>fans</th>\n",
       "      <th>friends</th>\n",
       "      <th>name</th>\n",
       "      <th>review_count</th>\n",
       "      <th>type</th>\n",
       "      <th>user_id</th>\n",
       "      <th>votes</th>\n",
       "      <th>yelping_since</th>\n",
       "      <th>months_yelping</th>\n",
       "    </tr>\n",
       "  </thead>\n",
       "  <tbody>\n",
       "    <tr>\n",
       "      <th>0</th>\n",
       "      <td>3.52</td>\n",
       "      <td>{u'profile': 5, u'funny': 37, u'cute': 8, u'pl...</td>\n",
       "      <td>[2006, 2007, 2008, 2009, 2010, 2011, 2012, 201...</td>\n",
       "      <td>102</td>\n",
       "      <td>[rpOyqD_893cqmDAtJLbdog, CYJnkecyF1DOXVFvBeFmt...</td>\n",
       "      <td>Matthew</td>\n",
       "      <td>1820</td>\n",
       "      <td>user</td>\n",
       "      <td>e-t3dRzH9bmsanmhYgSiVQ</td>\n",
       "      <td>{u'funny': 2020, u'useful': 6438, u'cool': 2835}</td>\n",
       "      <td>2006-05</td>\n",
       "      <td>118</td>\n",
       "    </tr>\n",
       "    <tr>\n",
       "      <th>1</th>\n",
       "      <td>3.85</td>\n",
       "      <td>{u'profile': 8, u'funny': 28, u'cute': 8, u'pl...</td>\n",
       "      <td>[2013, 2014, 2015]</td>\n",
       "      <td>117</td>\n",
       "      <td>[rpOyqD_893cqmDAtJLbdog, 8J4IIYcqBlFch8T90N923...</td>\n",
       "      <td>James</td>\n",
       "      <td>1444</td>\n",
       "      <td>user</td>\n",
       "      <td>uF1-c9oji5qiHntYsmfKGg</td>\n",
       "      <td>{u'funny': 4040, u'useful': 7417, u'cool': 5710}</td>\n",
       "      <td>2011-11</td>\n",
       "      <td>52</td>\n",
       "    </tr>\n",
       "    <tr>\n",
       "      <th>2</th>\n",
       "      <td>3.47</td>\n",
       "      <td>{u'cute': 1, u'cool': 1, u'funny': 1, u'photos...</td>\n",
       "      <td>[]</td>\n",
       "      <td>1</td>\n",
       "      <td>[snd45oedwXxF9tsHUX_6dg]</td>\n",
       "      <td>Meg</td>\n",
       "      <td>44</td>\n",
       "      <td>user</td>\n",
       "      <td>NUNVFFv_VEyVn3G7kg1V8g</td>\n",
       "      <td>{u'funny': 21, u'useful': 83, u'cool': 14}</td>\n",
       "      <td>2009-09</td>\n",
       "      <td>78</td>\n",
       "    </tr>\n",
       "    <tr>\n",
       "      <th>3</th>\n",
       "      <td>3.45</td>\n",
       "      <td>{u'profile': 2, u'cute': 4, u'funny': 37, u'pl...</td>\n",
       "      <td>[2009, 2010, 2011, 2012]</td>\n",
       "      <td>22</td>\n",
       "      <td>[uguXfIEpI65jSCH5MgUDgA, Rir-YRPPClKXDFQbc3BsV...</td>\n",
       "      <td>Jeff</td>\n",
       "      <td>394</td>\n",
       "      <td>user</td>\n",
       "      <td>0KZsDw5pGKrYEWGXg9oUsg</td>\n",
       "      <td>{u'funny': 956, u'useful': 1524, u'cool': 970}</td>\n",
       "      <td>2008-05</td>\n",
       "      <td>94</td>\n",
       "    </tr>\n",
       "    <tr>\n",
       "      <th>4</th>\n",
       "      <td>3.39</td>\n",
       "      <td>{u'profile': 1, u'funny': 4, u'cute': 1, u'pla...</td>\n",
       "      <td>[2006, 2007, 2009, 2010, 2011]</td>\n",
       "      <td>15</td>\n",
       "      <td>[GJYJX4SujVj3BR8v2F9PDQ, WGf64PeXIZtdoqkBj0-_z...</td>\n",
       "      <td>Susan</td>\n",
       "      <td>482</td>\n",
       "      <td>user</td>\n",
       "      <td>gMOlCdsMxODvZ9G7yMZmTA</td>\n",
       "      <td>{u'funny': 164, u'useful': 530, u'cool': 206}</td>\n",
       "      <td>2006-02</td>\n",
       "      <td>121</td>\n",
       "    </tr>\n",
       "  </tbody>\n",
       "</table>\n",
       "</div>"
      ],
      "text/plain": [
       "   average_stars                                        compliments  \\\n",
       "0           3.52  {u'profile': 5, u'funny': 37, u'cute': 8, u'pl...   \n",
       "1           3.85  {u'profile': 8, u'funny': 28, u'cute': 8, u'pl...   \n",
       "2           3.47  {u'cute': 1, u'cool': 1, u'funny': 1, u'photos...   \n",
       "3           3.45  {u'profile': 2, u'cute': 4, u'funny': 37, u'pl...   \n",
       "4           3.39  {u'profile': 1, u'funny': 4, u'cute': 1, u'pla...   \n",
       "\n",
       "                                               elite  fans  \\\n",
       "0  [2006, 2007, 2008, 2009, 2010, 2011, 2012, 201...   102   \n",
       "1                                 [2013, 2014, 2015]   117   \n",
       "2                                                 []     1   \n",
       "3                           [2009, 2010, 2011, 2012]    22   \n",
       "4                     [2006, 2007, 2009, 2010, 2011]    15   \n",
       "\n",
       "                                             friends     name  review_count  \\\n",
       "0  [rpOyqD_893cqmDAtJLbdog, CYJnkecyF1DOXVFvBeFmt...  Matthew          1820   \n",
       "1  [rpOyqD_893cqmDAtJLbdog, 8J4IIYcqBlFch8T90N923...    James          1444   \n",
       "2                           [snd45oedwXxF9tsHUX_6dg]      Meg            44   \n",
       "3  [uguXfIEpI65jSCH5MgUDgA, Rir-YRPPClKXDFQbc3BsV...     Jeff           394   \n",
       "4  [GJYJX4SujVj3BR8v2F9PDQ, WGf64PeXIZtdoqkBj0-_z...    Susan           482   \n",
       "\n",
       "   type                 user_id  \\\n",
       "0  user  e-t3dRzH9bmsanmhYgSiVQ   \n",
       "1  user  uF1-c9oji5qiHntYsmfKGg   \n",
       "2  user  NUNVFFv_VEyVn3G7kg1V8g   \n",
       "3  user  0KZsDw5pGKrYEWGXg9oUsg   \n",
       "4  user  gMOlCdsMxODvZ9G7yMZmTA   \n",
       "\n",
       "                                              votes yelping_since  \\\n",
       "0  {u'funny': 2020, u'useful': 6438, u'cool': 2835}       2006-05   \n",
       "1  {u'funny': 4040, u'useful': 7417, u'cool': 5710}       2011-11   \n",
       "2        {u'funny': 21, u'useful': 83, u'cool': 14}       2009-09   \n",
       "3    {u'funny': 956, u'useful': 1524, u'cool': 970}       2008-05   \n",
       "4     {u'funny': 164, u'useful': 530, u'cool': 206}       2006-02   \n",
       "\n",
       "   months_yelping  \n",
       "0             118  \n",
       "1              52  \n",
       "2              78  \n",
       "3              94  \n",
       "4             121  "
      ]
     },
     "execution_count": 77,
     "metadata": {},
     "output_type": "execute_result"
    }
   ],
   "source": [
    "userframe.head()"
   ]
  },
  {
   "cell_type": "code",
   "execution_count": 78,
   "metadata": {
    "collapsed": false
   },
   "outputs": [],
   "source": [
    "#Label elite users\n",
    "userframe[\"elite_user\"] = userframe['elite'].map(lambda x: 'elite' if len(x) > 0 else 'not_elite')\n"
   ]
  },
  {
   "cell_type": "code",
   "execution_count": 79,
   "metadata": {
    "collapsed": false
   },
   "outputs": [],
   "source": [
    "#Adapted from: http://stackoverflow.com/questions/21160134/flatten-a-column-with-value-of-type-list-while-duplicating-the-other-columns-va\n",
    "#TODO: Find more idiomatic definition for rev_category_frame, preferably by removing flattened_categories.\n",
    "#flattened_categories = DataFrame([[i, category]\n",
    "#                                     for i, categories in rev_biz_frame['categories'].apply(list).iteritems()\n",
    "#                                         for category in categories],\n",
    "#                                columns=['index', 'category'])\n",
    "#flattened_categories.set_index('index')\n",
    "#rev_category_frame = rev_biz_frame.merge(flattened_categories, left_index = True, right_index = True)"
   ]
  },
  {
   "cell_type": "code",
   "execution_count": 80,
   "metadata": {
    "collapsed": false
   },
   "outputs": [],
   "source": [
    "#Number businesses / category\n",
    "#TODO: Add name to the size column; do some sanity checking on the data.\n",
    "user_biz_revved_per_category_frame = rev_category_frame.groupby(['user_id', 'business_id', 'category']).size()"
   ]
  },
  {
   "cell_type": "code",
   "execution_count": 81,
   "metadata": {
    "collapsed": false
   },
   "outputs": [
    {
     "data": {
      "text/html": [
       "<div>\n",
       "<table border=\"1\" class=\"dataframe\">\n",
       "  <thead>\n",
       "    <tr style=\"text-align: right;\">\n",
       "      <th></th>\n",
       "      <th>business_id</th>\n",
       "      <th>date</th>\n",
       "      <th>review_id</th>\n",
       "      <th>stars_x</th>\n",
       "      <th>text</th>\n",
       "      <th>type</th>\n",
       "      <th>user_id</th>\n",
       "      <th>votes</th>\n",
       "      <th>name</th>\n",
       "      <th>categories</th>\n",
       "      <th>review_count</th>\n",
       "      <th>stars_y</th>\n",
       "      <th>index</th>\n",
       "      <th>category</th>\n",
       "    </tr>\n",
       "  </thead>\n",
       "  <tbody>\n",
       "    <tr>\n",
       "      <th>0</th>\n",
       "      <td>bGF2RANM6J8SGjIFAhZwXw</td>\n",
       "      <td>2010-07-26</td>\n",
       "      <td>cNNpfhxKaxWaJvv59NF31g</td>\n",
       "      <td>4</td>\n",
       "      <td>My friends and I were in Montreal for the week...</td>\n",
       "      <td>review</td>\n",
       "      <td>_Ih-kbqOQwHfx1JXhiM2tw</td>\n",
       "      <td>{u'funny': 0, u'useful': 0, u'cool': 0}</td>\n",
       "      <td>Mon Shing</td>\n",
       "      <td>[Chinese, Restaurants]</td>\n",
       "      <td>17</td>\n",
       "      <td>3</td>\n",
       "      <td>0</td>\n",
       "      <td>Chinese</td>\n",
       "    </tr>\n",
       "    <tr>\n",
       "      <th>1</th>\n",
       "      <td>bGF2RANM6J8SGjIFAhZwXw</td>\n",
       "      <td>2010-09-21</td>\n",
       "      <td>Oy2WWRthMLmzFVO93TQGhQ</td>\n",
       "      <td>3</td>\n",
       "      <td>We were starving and came across this place, a...</td>\n",
       "      <td>review</td>\n",
       "      <td>sS1PYc8-1or06A7-g6DLjw</td>\n",
       "      <td>{u'funny': 0, u'useful': 0, u'cool': 0}</td>\n",
       "      <td>Mon Shing</td>\n",
       "      <td>[Chinese, Restaurants]</td>\n",
       "      <td>17</td>\n",
       "      <td>3</td>\n",
       "      <td>0</td>\n",
       "      <td>Restaurants</td>\n",
       "    </tr>\n",
       "    <tr>\n",
       "      <th>2</th>\n",
       "      <td>bGF2RANM6J8SGjIFAhZwXw</td>\n",
       "      <td>2010-10-17</td>\n",
       "      <td>lr_bTWVM0_yuDmTLtB7EEw</td>\n",
       "      <td>3</td>\n",
       "      <td>The food here was delicious, the prices were a...</td>\n",
       "      <td>review</td>\n",
       "      <td>UmItbKYkExcAn7O-Ev8P4w</td>\n",
       "      <td>{u'funny': 0, u'useful': 1, u'cool': 0}</td>\n",
       "      <td>Mon Shing</td>\n",
       "      <td>[Chinese, Restaurants]</td>\n",
       "      <td>17</td>\n",
       "      <td>3</td>\n",
       "      <td>1</td>\n",
       "      <td>Chinese</td>\n",
       "    </tr>\n",
       "    <tr>\n",
       "      <th>3</th>\n",
       "      <td>bGF2RANM6J8SGjIFAhZwXw</td>\n",
       "      <td>2011-05-30</td>\n",
       "      <td>clNJalIe998P33Y-xFPrXQ</td>\n",
       "      <td>1</td>\n",
       "      <td>Mon Shing, where bad service is the thing...\\n...</td>\n",
       "      <td>review</td>\n",
       "      <td>g2U0q3llw0FZUrz1AwIejw</td>\n",
       "      <td>{u'funny': 0, u'useful': 1, u'cool': 2}</td>\n",
       "      <td>Mon Shing</td>\n",
       "      <td>[Chinese, Restaurants]</td>\n",
       "      <td>17</td>\n",
       "      <td>3</td>\n",
       "      <td>1</td>\n",
       "      <td>Restaurants</td>\n",
       "    </tr>\n",
       "    <tr>\n",
       "      <th>4</th>\n",
       "      <td>bGF2RANM6J8SGjIFAhZwXw</td>\n",
       "      <td>2011-09-05</td>\n",
       "      <td>YFacTq3GaGQKEpU_tVpkdw</td>\n",
       "      <td>5</td>\n",
       "      <td>Came here tonight after being disappointed fro...</td>\n",
       "      <td>review</td>\n",
       "      <td>52JujBdOqAjTve5rh7LYvg</td>\n",
       "      <td>{u'funny': 0, u'useful': 0, u'cool': 0}</td>\n",
       "      <td>Mon Shing</td>\n",
       "      <td>[Chinese, Restaurants]</td>\n",
       "      <td>17</td>\n",
       "      <td>3</td>\n",
       "      <td>2</td>\n",
       "      <td>Chinese</td>\n",
       "    </tr>\n",
       "  </tbody>\n",
       "</table>\n",
       "</div>"
      ],
      "text/plain": [
       "              business_id        date               review_id  stars_x  \\\n",
       "0  bGF2RANM6J8SGjIFAhZwXw  2010-07-26  cNNpfhxKaxWaJvv59NF31g        4   \n",
       "1  bGF2RANM6J8SGjIFAhZwXw  2010-09-21  Oy2WWRthMLmzFVO93TQGhQ        3   \n",
       "2  bGF2RANM6J8SGjIFAhZwXw  2010-10-17  lr_bTWVM0_yuDmTLtB7EEw        3   \n",
       "3  bGF2RANM6J8SGjIFAhZwXw  2011-05-30  clNJalIe998P33Y-xFPrXQ        1   \n",
       "4  bGF2RANM6J8SGjIFAhZwXw  2011-09-05  YFacTq3GaGQKEpU_tVpkdw        5   \n",
       "\n",
       "                                                text    type  \\\n",
       "0  My friends and I were in Montreal for the week...  review   \n",
       "1  We were starving and came across this place, a...  review   \n",
       "2  The food here was delicious, the prices were a...  review   \n",
       "3  Mon Shing, where bad service is the thing...\\n...  review   \n",
       "4  Came here tonight after being disappointed fro...  review   \n",
       "\n",
       "                  user_id                                    votes       name  \\\n",
       "0  _Ih-kbqOQwHfx1JXhiM2tw  {u'funny': 0, u'useful': 0, u'cool': 0}  Mon Shing   \n",
       "1  sS1PYc8-1or06A7-g6DLjw  {u'funny': 0, u'useful': 0, u'cool': 0}  Mon Shing   \n",
       "2  UmItbKYkExcAn7O-Ev8P4w  {u'funny': 0, u'useful': 1, u'cool': 0}  Mon Shing   \n",
       "3  g2U0q3llw0FZUrz1AwIejw  {u'funny': 0, u'useful': 1, u'cool': 2}  Mon Shing   \n",
       "4  52JujBdOqAjTve5rh7LYvg  {u'funny': 0, u'useful': 0, u'cool': 0}  Mon Shing   \n",
       "\n",
       "               categories  review_count  stars_y  index     category  \n",
       "0  [Chinese, Restaurants]            17        3      0      Chinese  \n",
       "1  [Chinese, Restaurants]            17        3      0  Restaurants  \n",
       "2  [Chinese, Restaurants]            17        3      1      Chinese  \n",
       "3  [Chinese, Restaurants]            17        3      1  Restaurants  \n",
       "4  [Chinese, Restaurants]            17        3      2      Chinese  "
      ]
     },
     "execution_count": 81,
     "metadata": {},
     "output_type": "execute_result"
    }
   ],
   "source": [
    "rev_category_frame.head()"
   ]
  },
  {
   "cell_type": "code",
   "execution_count": 82,
   "metadata": {
    "collapsed": false
   },
   "outputs": [],
   "source": [
    "#rev_restaurants_frame = DataFrame(rev_category_frame.loc[rev_category_frame['category'] == 'Restaurants'])\n",
    "rev_restaurants_frame['funny'] = rev_restaurants_frame['votes'].map(lambda x: x['funny'])\n",
    "rev_restaurants_frame['useful'] = rev_restaurants_frame['votes'].map(lambda x: x['useful'])\n",
    "rev_restaurants_frame['cool'] = rev_restaurants_frame['votes'].map(lambda x: x['cool'])"
   ]
  },
  {
   "cell_type": "code",
   "execution_count": 83,
   "metadata": {
    "collapsed": false
   },
   "outputs": [],
   "source": [
    "rev_dim_peruser_frame = rev_restaurants_frame.groupby('user_id').aggregate(sum).reset_index()[['user_id', 'funny', 'useful', 'cool']]"
   ]
  },
  {
   "cell_type": "code",
   "execution_count": 84,
   "metadata": {
    "collapsed": false
   },
   "outputs": [],
   "source": [
    "user_dim_frame = pd.merge(userframe[['user_id', 'months_yelping', 'elite_user']], rev_dim_peruser_frame, on='user_id')\n",
    "dimframe = pd.merge(pdimframe, user_dim_frame, on='user_id')"
   ]
  },
  {
   "cell_type": "code",
   "execution_count": 85,
   "metadata": {
    "collapsed": false
   },
   "outputs": [],
   "source": [
    "#Move elite_user column to end\n",
    "elite_column = dimframe.pop('elite_user')\n",
    "dimframe.insert(10,'elite_user', elite_column)"
   ]
  },
  {
   "cell_type": "code",
   "execution_count": 86,
   "metadata": {
    "collapsed": true
   },
   "outputs": [],
   "source": [
    "dimframe.to_json('../montreal_subset/featureset1.json')"
   ]
  },
  {
   "cell_type": "code",
   "execution_count": 87,
   "metadata": {
    "collapsed": false
   },
   "outputs": [
    {
     "data": {
      "text/html": [
       "<div>\n",
       "<table border=\"1\" class=\"dataframe\">\n",
       "  <thead>\n",
       "    <tr style=\"text-align: right;\">\n",
       "      <th></th>\n",
       "      <th>categories_avg_rating</th>\n",
       "      <th>categories_biz_count</th>\n",
       "      <th>categories_reviews</th>\n",
       "      <th>std_dev_rating</th>\n",
       "      <th>total_reviews</th>\n",
       "      <th>user_id</th>\n",
       "      <th>months_yelping</th>\n",
       "      <th>funny</th>\n",
       "      <th>useful</th>\n",
       "      <th>cool</th>\n",
       "      <th>elite_user</th>\n",
       "    </tr>\n",
       "  </thead>\n",
       "  <tbody>\n",
       "    <tr>\n",
       "      <th>0</th>\n",
       "      <td>4</td>\n",
       "      <td>4</td>\n",
       "      <td>4</td>\n",
       "      <td>0.707107</td>\n",
       "      <td>7</td>\n",
       "      <td>blTyV99vbzi4P7_ag_QLNQ</td>\n",
       "      <td>47</td>\n",
       "      <td>0</td>\n",
       "      <td>1</td>\n",
       "      <td>0</td>\n",
       "      <td>elite</td>\n",
       "    </tr>\n",
       "    <tr>\n",
       "      <th>1</th>\n",
       "      <td>4</td>\n",
       "      <td>4</td>\n",
       "      <td>4</td>\n",
       "      <td>0.707107</td>\n",
       "      <td>7</td>\n",
       "      <td>blTyV99vbzi4P7_ag_QLNQ</td>\n",
       "      <td>47</td>\n",
       "      <td>0</td>\n",
       "      <td>1</td>\n",
       "      <td>0</td>\n",
       "      <td>elite</td>\n",
       "    </tr>\n",
       "    <tr>\n",
       "      <th>2</th>\n",
       "      <td>4</td>\n",
       "      <td>4</td>\n",
       "      <td>4</td>\n",
       "      <td>0.707107</td>\n",
       "      <td>7</td>\n",
       "      <td>blTyV99vbzi4P7_ag_QLNQ</td>\n",
       "      <td>47</td>\n",
       "      <td>0</td>\n",
       "      <td>1</td>\n",
       "      <td>0</td>\n",
       "      <td>elite</td>\n",
       "    </tr>\n",
       "    <tr>\n",
       "      <th>3</th>\n",
       "      <td>4</td>\n",
       "      <td>4</td>\n",
       "      <td>4</td>\n",
       "      <td>0.707107</td>\n",
       "      <td>7</td>\n",
       "      <td>blTyV99vbzi4P7_ag_QLNQ</td>\n",
       "      <td>47</td>\n",
       "      <td>0</td>\n",
       "      <td>1</td>\n",
       "      <td>0</td>\n",
       "      <td>elite</td>\n",
       "    </tr>\n",
       "    <tr>\n",
       "      <th>4</th>\n",
       "      <td>4</td>\n",
       "      <td>4</td>\n",
       "      <td>4</td>\n",
       "      <td>0.707107</td>\n",
       "      <td>7</td>\n",
       "      <td>blTyV99vbzi4P7_ag_QLNQ</td>\n",
       "      <td>47</td>\n",
       "      <td>0</td>\n",
       "      <td>1</td>\n",
       "      <td>0</td>\n",
       "      <td>elite</td>\n",
       "    </tr>\n",
       "  </tbody>\n",
       "</table>\n",
       "</div>"
      ],
      "text/plain": [
       "   categories_avg_rating  categories_biz_count  categories_reviews  \\\n",
       "0                      4                     4                   4   \n",
       "1                      4                     4                   4   \n",
       "2                      4                     4                   4   \n",
       "3                      4                     4                   4   \n",
       "4                      4                     4                   4   \n",
       "\n",
       "   std_dev_rating  total_reviews                 user_id  months_yelping  \\\n",
       "0        0.707107              7  blTyV99vbzi4P7_ag_QLNQ              47   \n",
       "1        0.707107              7  blTyV99vbzi4P7_ag_QLNQ              47   \n",
       "2        0.707107              7  blTyV99vbzi4P7_ag_QLNQ              47   \n",
       "3        0.707107              7  blTyV99vbzi4P7_ag_QLNQ              47   \n",
       "4        0.707107              7  blTyV99vbzi4P7_ag_QLNQ              47   \n",
       "\n",
       "   funny  useful  cool elite_user  \n",
       "0      0       1     0      elite  \n",
       "1      0       1     0      elite  \n",
       "2      0       1     0      elite  \n",
       "3      0       1     0      elite  \n",
       "4      0       1     0      elite  "
      ]
     },
     "execution_count": 87,
     "metadata": {},
     "output_type": "execute_result"
    }
   ],
   "source": [
    "dimframe.head()"
   ]
  },
  {
   "cell_type": "code",
   "execution_count": null,
   "metadata": {
    "collapsed": true
   },
   "outputs": [],
   "source": []
  },
  {
   "cell_type": "code",
   "execution_count": null,
   "metadata": {
    "collapsed": true
   },
   "outputs": [],
   "source": []
  },
  {
   "cell_type": "code",
   "execution_count": null,
   "metadata": {
    "collapsed": true
   },
   "outputs": [],
   "source": []
  }
 ],
 "metadata": {
  "kernelspec": {
   "display_name": "Python 2",
   "language": "python",
   "name": "python2"
  },
  "language_info": {
   "codemirror_mode": {
    "name": "ipython",
    "version": 2
   },
   "file_extension": ".py",
   "mimetype": "text/x-python",
   "name": "python",
   "nbconvert_exporter": "python",
   "pygments_lexer": "ipython2",
   "version": "2.7.11"
  }
 },
 "nbformat": 4,
 "nbformat_minor": 0
}
