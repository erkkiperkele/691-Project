{
 "cells": [
  {
   "cell_type": "code",
   "execution_count": null,
   "metadata": {
    "collapsed": true
   },
   "outputs": [],
   "source": [
    "BIZPATH='../montreal_subset/montreal_business.json'\n",
    "USERPATH='../montreal_subset/montreal_users_who_reviewed.json'\n",
    "REVPATH='../montreal_subset/montreal_reviews.json'"
   ]
  },
  {
   "cell_type": "code",
   "execution_count": null,
   "metadata": {
    "collapsed": true
   },
   "outputs": [],
   "source": [
    "import json"
   ]
  },
  {
   "cell_type": "code",
   "execution_count": null,
   "metadata": {
    "collapsed": true
   },
   "outputs": [],
   "source": [
    "bizrecords = [json.loads(line) for line in open(BIZPATH)]\n",
    "userrecords = [json.loads(line) for line in open(USERPATH)]\n",
    "revrecords = [json.loads(line) for line in open(REVPATH)]"
   ]
  },
  {
   "cell_type": "code",
   "execution_count": null,
   "metadata": {
    "collapsed": true
   },
   "outputs": [],
   "source": [
    "from pandas import DataFrame, Series"
   ]
  },
  {
   "cell_type": "code",
   "execution_count": null,
   "metadata": {
    "collapsed": true
   },
   "outputs": [],
   "source": [
    "import pandas as pd; import numpy as np"
   ]
  },
  {
   "cell_type": "code",
   "execution_count": null,
   "metadata": {
    "collapsed": true
   },
   "outputs": [],
   "source": [
    "bizframe = DataFrame(bizrecords)\n",
    "userframe = DataFrame(userrecords)\n",
    "revframe = DataFrame(revrecords)"
   ]
  },
  {
   "cell_type": "code",
   "execution_count": null,
   "metadata": {
    "collapsed": true
   },
   "outputs": [],
   "source": [
    "bizframe_sub = DataFrame(bizrecords, columns=['business_id', 'name', 'categories', 'review_count', 'stars'])"
   ]
  },
  {
   "cell_type": "code",
   "execution_count": null,
   "metadata": {
    "collapsed": true
   },
   "outputs": [],
   "source": [
    "rev_user_frame = pd.merge(revframe, userframe, on=\"user_id\")\n",
    "rev_biz_frame = pd.merge(revframe, bizframe, on=\"business_id\")"
   ]
  },
  {
   "cell_type": "code",
   "execution_count": null,
   "metadata": {
    "collapsed": false
   },
   "outputs": [],
   "source": [
    "#Months yelping\n",
    "import datetime\n",
    "now = datetime.datetime.now()\n",
    "userframe['months_yelping'] = userframe['yelping_since'].map(lambda x: datetime.datetime.strptime(x, '%Y-%m')).map(lambda x: (now.year - x.year) * 12 + now.month - x.month)"
   ]
  },
  {
   "cell_type": "code",
   "execution_count": null,
   "metadata": {
    "collapsed": false
   },
   "outputs": [],
   "source": [
    "#Adapted from: http://stackoverflow.com/questions/21160134/flatten-a-column-with-value-of-type-list-while-duplicating-the-other-columns-va\n",
    "#TODO: Find more idiomatic definition for rev_category_frame, preferably by removing flattened_categories.\n",
    "flattened_categories = DataFrame([[i, category]\n",
    "                                     for i, categories in rev_biz_frame['categories'].apply(list).iteritems()\n",
    "                                         for category in categories],\n",
    "                                columns=['index', 'category'])\n",
    "flattened_categories.set_index('index')\n",
    "rev_category_frame = rev_biz_frame.merge(flattened_categories, left_index = True, right_index = True)"
   ]
  },
  {
   "cell_type": "code",
   "execution_count": null,
   "metadata": {
    "collapsed": false
   },
   "outputs": [],
   "source": [
    "#Number businesses / category\n",
    "#TODO: Add name to the size column; do some sanity checking on the data.\n",
    "user_biz_revved_per_category_frame = rev_category_frame.groupby(['user_id', 'business_id', 'category']).size()"
   ]
  },
  {
   "cell_type": "code",
   "execution_count": null,
   "metadata": {
    "collapsed": false
   },
   "outputs": [],
   "source": [
    "#Funny\n",
    "revframe['funny'] = revframe['votes'].map(lambda x: x['funny'])\n",
    "revframe['useful'] = revframe['votes'].map(lambda x: x['useful'])\n",
    "revframe['cool'] = revframe['votes'].map(lambda x: x['cool'])\n",
    "revframe.loc[revframe['user_id'] == 'e-t3dRzH9bmsanmhYgSiVQ']"
   ]
  },
  {
   "cell_type": "code",
   "execution_count": null,
   "metadata": {
    "collapsed": false
   },
   "outputs": [],
   "source": [
    "rev_dim_peruser_frame = revframe.groupby('user_id').aggregate(sum).reset_index()[['user_id', 'funny', 'useful', 'cool']]\n",
    "rev_dim_peruser_frame.loc[rev_dim_peruser_frame['user_id'] == 'e-t3dRzH9bmsanmhYgSiVQ']"
   ]
  },
  {
   "cell_type": "code",
   "execution_count": null,
   "metadata": {
    "collapsed": false
   },
   "outputs": [],
   "source": [
    "user_dim_frame = pd.merge(userframe[['user_id', 'months_yelping']], rev_dim_peruser_frame, on='user_id')"
   ]
  },
  {
   "cell_type": "raw",
   "metadata": {},
   "source": []
  }
 ],
 "metadata": {
  "kernelspec": {
   "display_name": "Python 3",
   "language": "python",
   "name": "python3"
  },
  "language_info": {
   "codemirror_mode": {
    "name": "ipython",
    "version": 3
   },
   "file_extension": ".py",
   "mimetype": "text/x-python",
   "name": "python",
   "nbconvert_exporter": "python",
   "pygments_lexer": "ipython3",
   "version": "3.5.1"
  }
 },
 "nbformat": 4,
 "nbformat_minor": 0
}
